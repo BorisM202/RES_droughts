{
 "cells": [
  {
   "cell_type": "markdown",
   "metadata": {},
   "source": [
    "Import librairies"
   ]
  },
  {
   "cell_type": "code",
   "execution_count": 3,
   "metadata": {},
   "outputs": [],
   "source": [
    "import numpy as np\n",
    "import pandas as pd\n",
    "import geopandas as gpd\n",
    "import xarray as xr\n",
    "import tqdm\n",
    "import atlite\n",
    "\n",
    "from shapely.geometry import mapping\n"
   ]
  },
  {
   "cell_type": "markdown",
   "metadata": {},
   "source": [
    "# EirGrid"
   ]
  },
  {
   "cell_type": "markdown",
   "metadata": {},
   "source": [
    "## Locations of farms"
   ]
  },
  {
   "cell_type": "markdown",
   "metadata": {},
   "source": [
    "Read capacity of wind farms"
   ]
  },
  {
   "cell_type": "code",
   "execution_count": null,
   "metadata": {},
   "outputs": [],
   "source": [
    "df_capacity = pd.read_csv('../Data_Final/EirGrid/capacity_wind_9224_eir.csv',\n",
    "                               index_col = 2,\n",
    "                               parse_dates=True)"
   ]
  },
  {
   "cell_type": "markdown",
   "metadata": {},
   "source": [
    "Rename the columns to be correctly read by Atlite"
   ]
  },
  {
   "cell_type": "code",
   "execution_count": null,
   "metadata": {},
   "outputs": [],
   "source": [
    "df_capacity = df_capacity.dropna().rename(columns={'Capacity (MW)':'capacity', 'Latitude':'y', 'Longitude':'x'})\n",
    "df_capacity = df_capacity[df_capacity.index < '2024'] # Make sure to remove all data before 2024"
   ]
  },
  {
   "cell_type": "markdown",
   "metadata": {},
   "source": [
    "# Atlite"
   ]
  },
  {
   "cell_type": "markdown",
   "metadata": {},
   "source": [
    "## Create Cutout for Ireland"
   ]
  },
  {
   "cell_type": "markdown",
   "metadata": {},
   "source": [
    "Define function to create a time dependent layout of the capacity from the dataframe"
   ]
  },
  {
   "cell_type": "code",
   "execution_count": null,
   "metadata": {},
   "outputs": [],
   "source": [
    "def get_time_dependent_capacity_distribution(cutout: atlite.Cutout, df_capacity: pd.DataFrame):\n",
    "    capacity_layout = cutout.data['roughness'].copy()\n",
    "    capacity_layout.name = 'Capacity'\n",
    "    capacity_layout[:,:,:] = 0.\n",
    "\n",
    "    # Iterate over all capacity installations\n",
    "    for idx, row in tqdm(df_capacity.reset_index().iterrows(), total= df_capacity.shape[0]):\n",
    "        cap = row['capacity'] # Capacity values\n",
    "        df_capacity_i = pd.DataFrame([row])\n",
    "        layout = cutout.layout_from_capacity_list(df_capacity_i, col=\"capacity\")\n",
    "\n",
    "        capacity_layout[capacity_layout['time'] >= row['Connection date']] += layout\n",
    "\n",
    "    return capacity_layout"
   ]
  },
  {
   "cell_type": "code",
   "execution_count": null,
   "metadata": {},
   "outputs": [],
   "source": [
    "ds_u100 = xr.open_dataset('~/Documents/ERA5/u_100_hourly_7923.nc')\n",
    "ds_v100 = xr.open_dataset('~/Documents/ERA5/v_100_hourly_7923.nc')\n",
    "ds_rouhgness = xr.open_dataset('~/Documents/ERA5/forecast_surface_hourly_7923.nc')"
   ]
  },
  {
   "cell_type": "markdown",
   "metadata": {},
   "source": [
    "Some variables need to be formated"
   ]
  },
  {
   "cell_type": "code",
   "execution_count": null,
   "metadata": {},
   "outputs": [],
   "source": [
    "ds_clim = xr.merge([ds_u100, ds_v100, ds_rouhgness])\n",
    "ds_clim = ds_clim.sel(time=slice(\"1979-01-01\", \"2023-12-31\"))"
   ]
  },
  {
   "cell_type": "markdown",
   "metadata": {},
   "source": [
    "Loads the climate variables in Atlite\n",
    "\n",
    "This can only be done via the function get_cutout_from_era5_data which is not originally in the Atlite scripts but has been added by the authors"
   ]
  },
  {
   "cell_type": "code",
   "execution_count": null,
   "metadata": {},
   "outputs": [],
   "source": [
    "cutout = atlite.cutout.get_cutout_from_era5_data('path', ds_clim, ['wind'])"
   ]
  },
  {
   "cell_type": "markdown",
   "metadata": {},
   "source": [
    "### Create a layout of the 2023 wind farms"
   ]
  },
  {
   "cell_type": "markdown",
   "metadata": {},
   "source": [
    "Since we have the cutout and a fixed distribution of capacities, we can use the internal atlite function."
   ]
  },
  {
   "cell_type": "code",
   "execution_count": null,
   "metadata": {},
   "outputs": [],
   "source": [
    "df_layout = cutout.layout_from_capacity_list(df_capacity)"
   ]
  },
  {
   "cell_type": "markdown",
   "metadata": {},
   "source": [
    "### Load the wind turbine information"
   ]
  },
  {
   "cell_type": "markdown",
   "metadata": {},
   "source": [
    "The turbine selected for this purpose is the one that was found to be the best fit for the EirGrid data in the verification phase: the Enercon E112 4500 with 0.30w smoothing obtained from the renewables.ninja database."
   ]
  },
  {
   "cell_type": "code",
   "execution_count": null,
   "metadata": {},
   "outputs": [],
   "source": [
    "df_turbines = pd.read_csv('../../Data/renewables_ninja/Wind Turbine Power Curves ~ 5 (0.01ms with 0.30 w smoother).csv')\n",
    "turbine_ninja_030smoothing = {'hub_height':100,\n",
    "                              'P':1.,\n",
    "                              'V':df_turbines['data$speed'].values,\n",
    "                              'POW':df_turbines['Enercon.E112.4500'].values\n",
    "                             }"
   ]
  },
  {
   "cell_type": "markdown",
   "metadata": {},
   "source": [
    "### Get wind generation"
   ]
  },
  {
   "cell_type": "code",
   "execution_count": null,
   "metadata": {},
   "outputs": [
    {
     "name": "stdout",
     "output_type": "stream",
     "text": [
      "[########################################] | 100% Completed | 3.76 s\n"
     ]
    }
   ],
   "source": [
    "df_gen_atlite = cutout.wind(turbine = turbine_ninja_030smoothing,\n",
    "                         layout = df_layout,\n",
    "                         show_progress = True,\n",
    "                         add_cutout_windspeed = True)"
   ]
  },
  {
   "cell_type": "code",
   "execution_count": null,
   "metadata": {},
   "outputs": [],
   "source": [
    "df_cf_atlite = df_gen_atlite / df_capacity['Capacity'].sum()"
   ]
  },
  {
   "cell_type": "markdown",
   "metadata": {},
   "source": [
    "# C3S-E G"
   ]
  },
  {
   "cell_type": "code",
   "execution_count": null,
   "metadata": {},
   "outputs": [],
   "source": [
    "da_energy = "
   ]
  },
  {
   "cell_type": "code",
   "execution_count": null,
   "metadata": {},
   "outputs": [],
   "source": [
    "def get_cf_series_c3se_gridded(da_gridded: xr.DataArray, df_capacity: pd.DataFrame):\n",
    "    lats = da_gridded['latitude'].values\n",
    "    lons = da_gridded['longitude'].values\n",
    "\n",
    "    summed_time_series = np.zeros(da_gridded['time'].shape)\n",
    "\n",
    "    total_cap = 0.\n",
    "    # Iterate over all capacity installations\n",
    "    for idx, row in df_capacity.reset_index().iterrows():\n",
    "        x = row['x']\n",
    "        y = row['y']\n",
    "        cap = row['capacity']\n",
    "\n",
    "    # Find the nearest lat/lon point\n",
    "        dif_min_lon = np.argmin(abs(lons-x))\n",
    "        dif_min_lat = np.argmin(abs(lats-y))\n",
    "\n",
    "        time_series = da_gridded[:, dif_min_lat, dif_min_lon]\n",
    "\n",
    "        pairs_list = [[0,0], [0,1], [1,0], [1,1], [2,0], [0,2], [2,1], [1,2]]\n",
    "        if np.isnan(time_series).sum() > 2:\n",
    "            for pair in pairs_list:\n",
    "                dif_min_lon = np.argsort(abs(lons-x))[pair[0]]\n",
    "                dif_min_lat = np.argsort(abs(lats-y))[pair[1]]\n",
    "                time_series = da_gridded[:, dif_min_lat, dif_min_lon]\n",
    "                if np.isnan(time_series).sum() <= 2:\n",
    "                    break\n",
    "        try:\n",
    "            summed_time_series += cap*time_series\n",
    "        except NotImplementedError:\n",
    "            summed_time_series += cap*time_series.values\n",
    "\n",
    "    # Divide the total time series by the total IC to go back to CF\n",
    "    cf_time_series = summed_time_series/df_capacity['capacity'].sum()\n",
    "    return cf_time_series"
   ]
  },
  {
   "cell_type": "code",
   "execution_count": null,
   "metadata": {},
   "outputs": [],
   "source": [
    "array_cf_c3se_grid = get_cf_series_c3se_gridded(da_gridded=da_energy, df_capacity=df_capacity)"
   ]
  },
  {
   "cell_type": "code",
   "execution_count": null,
   "metadata": {},
   "outputs": [],
   "source": [
    "df_cf_c3se_grid = pd.Series(data=array_cf_c3se_grid, index=da_energy['time'])"
   ]
  },
  {
   "cell_type": "markdown",
   "metadata": {},
   "source": [
    "# C3S-E N"
   ]
  },
  {
   "cell_type": "code",
   "execution_count": null,
   "metadata": {},
   "outputs": [],
   "source": [
    "df_nat = pd.read_csv('../../Data/C3S-E/c3se_onshorewind_capacityfactor_national.csv',\n",
    "                         skiprows = 52,\n",
    "                         usecols = [0,18], # Data for IE\n",
    "                         index_col = 0,\n",
    "                         parse_dates = True)"
   ]
  },
  {
   "cell_type": "code",
   "execution_count": null,
   "metadata": {},
   "outputs": [],
   "source": [
    "df_sub = pd.read_csv('../../Data/C3S-E/c3se_onshorewind_capacityfactor_subnational.csv',\n",
    "                     skiprows=52,\n",
    "                     usecols=[0,350], # Data for NI\n",
    "                     index_col=0,\n",
    "                     parse_dates = True\n",
    ")"
   ]
  },
  {
   "cell_type": "code",
   "execution_count": null,
   "metadata": {},
   "outputs": [],
   "source": [
    "da_land_sea_mask = xr.open_dataarray('../../Data/era5_land_sea_mask.nc')"
   ]
  },
  {
   "cell_type": "markdown",
   "metadata": {},
   "source": [
    "https://ec.europa.eu/eurostat/web/gisco/geodata/reference-data/administrative-units-statistical-units/nuts#nuts21"
   ]
  },
  {
   "cell_type": "code",
   "execution_count": null,
   "metadata": {},
   "outputs": [],
   "source": [
    "boundaries = gpd.read_file('../../Data/NUTS_RG_01M_2021_4326/NUTS_RG_01M_2021_4326.shp', crs=\"epsg:4326\")\n",
    "boundaries_ie = boundaries[boundaries['NUTS_ID']=='IE']\n",
    "boundaries_ni = boundaries[boundaries['NUTS_ID']=='UKN']"
   ]
  },
  {
   "cell_type": "code",
   "execution_count": null,
   "metadata": {},
   "outputs": [],
   "source": [
    "da_land_sea_mask.rio.set_spatial_dims(x_dim=\"longitude\", y_dim=\"latitude\", inplace=True)\n",
    "da_land_sea_mask.rio.write_crs(\"epsg:4326\", inplace=True)"
   ]
  },
  {
   "cell_type": "code",
   "execution_count": null,
   "metadata": {},
   "outputs": [],
   "source": [
    "clipped_ie = da_land_sea_mask.rio.clip(boundaries_ie.geometry.apply(mapping), boundaries_ie.crs, drop=False)\n",
    "clipped_ni = da_land_sea_mask.rio.clip(boundaries_ni.geometry.apply(mapping), boundaries_ni.crs, drop=False)"
   ]
  },
  {
   "cell_type": "code",
   "execution_count": null,
   "metadata": {},
   "outputs": [],
   "source": [
    "df_cf_c3se_nat = (df_nat['IE']*clipped_ie.sum().item() + df_sub['UKN0']*clipped_ni.sum().item())/(clipped_ie.sum().item() + clipped_ni.sum().item())"
   ]
  },
  {
   "cell_type": "markdown",
   "metadata": {},
   "source": [
    "# Save Data"
   ]
  },
  {
   "cell_type": "code",
   "execution_count": null,
   "metadata": {},
   "outputs": [],
   "source": []
  }
 ],
 "metadata": {
  "kernelspec": {
   "display_name": "base",
   "language": "python",
   "name": "python3"
  },
  "language_info": {
   "codemirror_mode": {
    "name": "ipython",
    "version": 3
   },
   "file_extension": ".py",
   "mimetype": "text/x-python",
   "name": "python",
   "nbconvert_exporter": "python",
   "pygments_lexer": "ipython3",
   "version": "3.11.5"
  }
 },
 "nbformat": 4,
 "nbformat_minor": 2
}
