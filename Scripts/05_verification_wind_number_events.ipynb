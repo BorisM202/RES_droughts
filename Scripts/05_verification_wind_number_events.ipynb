{
 "cells": [
  {
   "cell_type": "markdown",
   "metadata": {},
   "source": [
    "# Figure 5"
   ]
  },
  {
   "cell_type": "markdown",
   "metadata": {},
   "source": [
    "Load librairies "
   ]
  },
  {
   "cell_type": "code",
   "execution_count": 1,
   "metadata": {},
   "outputs": [],
   "source": [
    "import numpy as np                  # Data\n",
    "import pandas as pd                 # Data\n",
    "import matplotlib.pyplot as plt     # Plot"
   ]
  },
  {
   "cell_type": "markdown",
   "metadata": {},
   "source": [
    "Use Latex font"
   ]
  },
  {
   "cell_type": "code",
   "execution_count": 2,
   "metadata": {},
   "outputs": [
    {
     "data": {
      "text/plain": [
       "' plt.rcParams.update({\"text.usetex\": True,\\n                     \"font.family\": \"serif\",\\n                     \"font.serif\": [\"Computer Modern\"],\\n                     \"font.size\": 11,\\n                     \"axes.labelsize\": 11,\\n                     \"legend.fontsize\": 11,\\n                     \"xtick.labelsize\": 9,\\n                     \"ytick.labelsize\": 9})   '"
      ]
     },
     "execution_count": 2,
     "metadata": {},
     "output_type": "execute_result"
    }
   ],
   "source": [
    "\"\"\" plt.rcParams.update({\"text.usetex\": True,\n",
    "                     \"font.family\": \"serif\",\n",
    "                     \"font.serif\": [\"Computer Modern\"],\n",
    "                     \"font.size\": 11,\n",
    "                     \"axes.labelsize\": 11,\n",
    "                     \"legend.fontsize\": 11,\n",
    "                     \"xtick.labelsize\": 9,\n",
    "                     \"ytick.labelsize\": 9})   \"\"\""
   ]
  },
  {
   "cell_type": "markdown",
   "metadata": {},
   "source": [
    "## Data & Methodology"
   ]
  },
  {
   "cell_type": "markdown",
   "metadata": {},
   "source": [
    "Read capacity factor verification data from 2014 to 2023"
   ]
  },
  {
   "cell_type": "code",
   "execution_count": 3,
   "metadata": {},
   "outputs": [],
   "source": [
    "df_cf = pd.read_csv('../Data/cf_verification_2014-2023.csv',\n",
    "                    index_col = 0,\n",
    "                    parse_dates = True,\n",
    "                    usecols = ['datetime', 'Wind OBS', 'Wind ATL', 'Wind C3S GRD', 'Wind C3S NAT']).dropna()"
   ]
  },
  {
   "cell_type": "markdown",
   "metadata": {},
   "source": [
    "Create moving average"
   ]
  },
  {
   "cell_type": "code",
   "execution_count": 4,
   "metadata": {},
   "outputs": [],
   "source": [
    "df_cf_avg = df_cf.rolling('D', min_periods = 24, center = True).mean()"
   ]
  },
  {
   "cell_type": "markdown",
   "metadata": {},
   "source": [
    "Function to identify a RES drought.\n",
    " - Select only the values below the selected threshold\n",
    " - Group consecutive True/False values and count consecutive hours below threshold\n",
    " - Find the end of each drought event\n",
    " - Adjust the index to point to the start time of each drought event"
   ]
  },
  {
   "cell_type": "code",
   "execution_count": 5,
   "metadata": {},
   "outputs": [],
   "source": [
    "def identify_drought(time_series: pd.Series,threshold:float):\n",
    "    events_thresh = time_series < threshold\n",
    "    raw_events = events_thresh.groupby(events_thresh.ne(events_thresh.shift()).cumsum()).cumsum()\n",
    "    identified_events = raw_events[(raw_events.shift(1) < raw_events) & (raw_events.shift(-1) < raw_events)]\n",
    "    identified_events.index = pd.Index([date - pd.Timedelta(identified_events.loc[date] - 1, unit = 'h') for date in identified_events.index])\n",
    "    return identified_events"
   ]
  },
  {
   "cell_type": "markdown",
   "metadata": {},
   "source": [
    "Repeat the function *identify_droughts* for all time series from the *df_combine_avg* data frame.\n",
    "\n",
    "The events for one series are stored in a pandas DataFrame and those series are stored in a dictonary *droughts_dict*."
   ]
  },
  {
   "cell_type": "code",
   "execution_count": 6,
   "metadata": {},
   "outputs": [],
   "source": [
    "droughts_dict = {}\n",
    "\n",
    "for column_wind in df_cf_avg:\n",
    "    raw_droughts_wind = identify_drought(df_cf_avg[column_wind], 0.1)\n",
    "    droughts_wind = raw_droughts_wind[raw_droughts_wind > 24]\n",
    "    droughts_df_wind = pd.DataFrame(droughts_wind)\n",
    "    droughts_df_wind = droughts_df_wind.set_axis(['Duration'], axis = 1)\n",
    "    droughts_dict[column_wind] = droughts_df_wind"
   ]
  },
  {
   "cell_type": "markdown",
   "metadata": {},
   "source": [
    "## Plot"
   ]
  },
  {
   "cell_type": "code",
   "execution_count": 7,
   "metadata": {},
   "outputs": [],
   "source": [
    "xlabel = ['1-2','2-3','3-4','4-5','5-6','6-7', '7-8','8+', '']\n",
    "duration_ranges_hours = [24, 48, 72, 96, 120, 144, 168, 192 ,np.inf]\n",
    "duration_ranges_days = [dur / 24 for dur in duration_ranges_hours]\n",
    "\n",
    "categories = {'wind': ['Wind OBS', 'Wind ATL', 'Wind C3S GRD', 'Wind C3S NAT']}\n",
    "label_name = ['OBS', 'ATL', 'C3S GRD', 'C3S NAT']\n",
    "color_models = ['black', '#B03024', '#348ABD', '#988ED5']\n",
    "\n",
    "eirgrid_heights = None\n",
    "positions = np.arange(len(duration_ranges_days) - 1)\n",
    "\n",
    "bar_width = 0.2\n",
    "cm = 1 / 2.54"
   ]
  },
  {
   "cell_type": "code",
   "execution_count": 9,
   "metadata": {},
   "outputs": [
    {
     "data": {
      "image/png": "[encoded data removed]",
      "text/plain": [
       "<Figure size 629.921x393.701 with 1 Axes>"
      ]
     },
     "metadata": {},
     "output_type": "display_data"
    }
   ],
   "source": [
    "fig, ax = plt.subplots(1, 1, \n",
    "                       figsize = (16*cm, 10*cm),\n",
    "                       sharey = True)\n",
    "\n",
    "for i, name in enumerate(categories['wind']):\n",
    "    df = droughts_dict[name]\n",
    "    df['DurationRange'] = pd.cut(df['Duration'], bins = duration_ranges_hours)\n",
    "    df['Year'] = df.index.year\n",
    "    annual_counts = df.groupby(['Year', 'DurationRange'], observed = True).size().unstack(fill_value = 0)\n",
    "\n",
    "    mean_counts = annual_counts.mean()\n",
    "    std_counts = annual_counts.std()\n",
    "    duration_midpoints = [((dur.left + dur.right) / 2) / 24 for dur in mean_counts.index]\n",
    "\n",
    "    if i == 0:\n",
    "        eirgrid_heights = mean_counts.values\n",
    "    else:\n",
    "        ax.bar(positions + (i - 1) * bar_width - 0.2, mean_counts,\n",
    "               width = bar_width,\n",
    "               color = color_models[i],\n",
    "               label = label_name[i],\n",
    "               zorder = 2)\n",
    "\n",
    "if eirgrid_heights is not None:\n",
    "    ax.bar(positions, eirgrid_heights,  \n",
    "           width = bar_width * 3,        \n",
    "           facecolor = 'none',\n",
    "           edgecolor = 'black',\n",
    "           linewidth = 2,\n",
    "           label = 'Observation',\n",
    "           zorder = 3)\n",
    "\n",
    "# X-axis\n",
    "ax.set_xlabel('Duration Range (Days)')\n",
    "ax.set_xticks(np.arange(len(duration_ranges_days)))\n",
    "ax.set_xticklabels(xlabel)\n",
    "\n",
    "# Y-axis\n",
    "ax.set_ylabel('Average Annual Number of Events')\n",
    "\n",
    "# Grid\n",
    "ax.margins(0.02)\n",
    "ax.grid(True, alpha = 0.3, zorder = 0)\n",
    "\n",
    "# Legend\n",
    "ax.legend(loc = 'upper right')\n",
    "fig.tight_layout()\n",
    "# fig.savefig('5_verification_wind_number_events.pdf', bbox_inches = 'tight')"
   ]
  },
  {
   "cell_type": "code",
   "execution_count": null,
   "metadata": {},
   "outputs": [],
   "source": []
  }
 ],
 "metadata": {
  "kernelspec": {
   "display_name": "base",
   "language": "python",
   "name": "python3"
  },
  "language_info": {
   "codemirror_mode": {
    "name": "ipython",
    "version": 3
   },
   "file_extension": ".py",
   "mimetype": "text/x-python",
   "name": "python",
   "nbconvert_exporter": "python",
   "pygments_lexer": "ipython3",
   "version": "3.12.2"
  }
 },
 "nbformat": 4,
 "nbformat_minor": 4
}
