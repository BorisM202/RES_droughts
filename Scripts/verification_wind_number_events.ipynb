{
 "cells": [
  {
   "cell_type": "code",
   "execution_count": 32,
   "metadata": {},
   "outputs": [],
   "source": [
    "import pandas as pd\n",
    "import numpy as np\n",
    "import matplotlib.pyplot as plt\n",
    "import matplotlib as mpl\n",
    "import seaborn as sns\n",
    "import matplotlib.dates as mdates\n",
    "import matplotlib.ticker as ticker"
   ]
  },
  {
   "cell_type": "markdown",
   "metadata": {},
   "source": [
    "# Methodology"
   ]
  },
  {
   "cell_type": "markdown",
   "metadata": {},
   "source": [
    "### Define the drought identification method"
   ]
  },
  {
   "cell_type": "code",
   "execution_count": 33,
   "metadata": {},
   "outputs": [],
   "source": [
    "def identify_drought(time_series: pd.Series,threshold:float):\n",
    "    events_thresh = time_series<threshold\n",
    "    raw_events = events_thresh.groupby(events_thresh.ne(events_thresh.shift()).cumsum()).cumsum()\n",
    "    identified_events = raw_events[(raw_events.shift(1) < raw_events) & (raw_events.shift(-1) < raw_events)]\n",
    "    identified_events.index = pd.Index([date - pd.Timedelta(identified_events.loc[date]-1, unit='h') for date in identified_events.index])\n",
    "    return identified_events"
   ]
  },
  {
   "cell_type": "markdown",
   "metadata": {},
   "source": [
    "### Verification data "
   ]
  },
  {
   "cell_type": "code",
   "execution_count": 34,
   "metadata": {},
   "outputs": [],
   "source": [
    "# Read CSV file containing Capacity Factor from EirGrid wind\n",
    "cf_wind = pd.read_csv('../Data/verification_cf_wind_1423.csv',\n",
    "                         index_col=0,\n",
    "                         usecols = [0,1,2,5,3])\n",
    "\n",
    "# Set the index to timestamps\n",
    "cf_wind.index = pd.to_datetime(cf_wind.index)\n",
    "cf_wind = cf_wind.sort_index()\n",
    "cf_wind.columns = 'onshorewind_eirgrid', 'onshorewind_atlite', 'onshorewind_c3se_national', 'onshorewind_c3se_gridded'\n",
    "\n",
    "cf_wind_avg = cf_wind.rolling('D', min_periods=24, center=True).mean()"
   ]
  },
  {
   "cell_type": "markdown",
   "metadata": {},
   "source": [
    "Detect Droughts for wind and PV"
   ]
  },
  {
   "cell_type": "code",
   "execution_count": 36,
   "metadata": {},
   "outputs": [],
   "source": [
    "droughts_dict = {}\n",
    "\n",
    "for column_wind in cf_wind_avg:\n",
    "    # Identify events below TH\n",
    "    raw_droughts_wind = identify_drought(cf_wind_avg[column_wind], 0.1)\n",
    "    #Select only events longer than 24 hours\n",
    "    droughts_wind = raw_droughts_wind[raw_droughts_wind > 24]\n",
    "    # Set results in data frames\n",
    "    droughts_df_wind = pd.DataFrame(droughts_wind)\n",
    "    droughts_df_wind = droughts_df_wind.set_axis(['Duration'], axis=1)\n",
    "    # Srt results in dict\n",
    "    droughts_dict[column_wind] = droughts_df_wind"
   ]
  },
  {
   "cell_type": "code",
   "execution_count": 37,
   "metadata": {},
   "outputs": [],
   "source": [
    "plt.rcParams.update({\n",
    "    \"text.usetex\": True,                # Use LaTeX for text\n",
    "    \"font.family\": \"serif\",             # Use 'serif' font\n",
    "    \"font.serif\": [\"Computer Modern\"],  # LaTeX default font\n",
    "    \"axes.labelsize\": 12,               # Font size for labels\n",
    "    \"font.size\": 12,                    # General font size\n",
    "    \"legend.fontsize\": 11,              # Font size for legend\n",
    "    \"xtick.labelsize\": 10,              # Font size for x-axis\n",
    "    \"ytick.labelsize\": 10               # Font size for y-axis\n",
    "})"
   ]
  },
  {
   "cell_type": "markdown",
   "metadata": {},
   "source": [
    "## Plots"
   ]
  },
  {
   "cell_type": "code",
   "execution_count": 38,
   "metadata": {},
   "outputs": [],
   "source": [
    "bar_width = 0.2\n",
    "xlabel = ['1-2','2-3','3-4','4-5','5-6','6-7', '7-8','8+', '']\n",
    "\n",
    "# Define duration ranges in hours\n",
    "duration_ranges_hours = [24, 48, 72, 96, 120, 144, 168, 192 ,np.inf]\n",
    "\n",
    "# Convert duration ranges to days\n",
    "duration_ranges_days = [dur / 24 for dur in duration_ranges_hours]\n",
    "\n",
    "# Group datasets based on categories\n",
    "categories = {\n",
    "    'wind': ['onshorewind_eirgrid', 'onshorewind_atlite', 'onshorewind_c3se_gridded', 'onshorewind_c3se_national']\n",
    "}\n",
    "\n",
    "label_name = ['EirGrid', 'Atlite', 'C3S-E Gridded', 'C3S-E National']\n",
    "color_models = ['black', '#B03024', '#348ABD', '#988ED5']"
   ]
  },
  {
   "cell_type": "code",
   "execution_count": 44,
   "metadata": {},
   "outputs": [
    {
     "data": {
      "image/png": "[encoded data removed]",
      "text/plain": [
       "<Figure size 900x500 with 1 Axes>"
      ]
     },
     "metadata": {},
     "output_type": "display_data"
    }
   ],
   "source": [
    "fig, ax = plt.subplots(1, 1, figsize=(9, 5), sharey=True)\n",
    "\n",
    "# Initialize the position for bars\n",
    "positions_wind = np.arange(len(duration_ranges_days) - 1)  # Ensure correct length\n",
    "\n",
    "# Variable to store the EirGrid bar heights\n",
    "eirgrid_heights = None\n",
    "\n",
    "# Loop over categories for wind\n",
    "for i, name in enumerate(categories['wind']):\n",
    "    df = droughts_dict[name]\n",
    "    # Calculate number of events for each duration range\n",
    "    df['DurationRange'] = pd.cut(df['Duration'], bins=duration_ranges_hours)\n",
    "    df['Year'] = df.index.year\n",
    "    annual_counts = df.groupby(['Year', 'DurationRange'], observed=True).size().unstack(fill_value=0)\n",
    "\n",
    "    # Calculate mean and std for each duration range across all years\n",
    "    mean_counts = annual_counts.mean()\n",
    "    std_counts = annual_counts.std()\n",
    "\n",
    "    # Extract midpoints of duration ranges for plotting\n",
    "    duration_midpoints = [((dur.left + dur.right) / 2) / 24 for dur in mean_counts.index]  # Convert back to days\n",
    "\n",
    "    if i == 0:  # EirGrid, store heights for later use\n",
    "        eirgrid_heights = mean_counts.values\n",
    "    else:  # Plot other datasets with alpha=0.8\n",
    "        ax.bar(\n",
    "            positions_wind + (i - 1) * bar_width - 0.2,\n",
    "            mean_counts,\n",
    "            width=bar_width,\n",
    "            color=color_models[i],\n",
    "            label=label_name[i],\n",
    "            zorder=2,  # Models in the background\n",
    "        )\n",
    "\n",
    "# Add an outline bar plot for EirGrid\n",
    "if eirgrid_heights is not None:\n",
    "    ax.bar(\n",
    "        positions_wind,  # Centered around the first bar\n",
    "        eirgrid_heights,\n",
    "        width=bar_width * 3,  # Adjust width to encompass all models\n",
    "        facecolor='none',  # No fill\n",
    "        edgecolor='black',  # Black outline\n",
    "        linewidth = 2,  # Line thickness for visibility\n",
    "        label='EirGrid',  # Label for the legend\n",
    "        zorder=3,  # Bring to the foreground\n",
    "    )\n",
    "\n",
    "ax.legend(loc='upper right', fontsize=14)\n",
    "ax.margins(0.02)\n",
    "ax.grid(True, alpha=0.2, zorder=0)\n",
    "\n",
    "# Set x-axis ticks and labels\n",
    "ax.set_xticks(np.arange(len(duration_ranges_days)))\n",
    "ax.set_xticklabels(xlabel)\n",
    "ax.tick_params(labelsize=12)\n",
    "\n",
    "ax.set_ylabel('Average annual number of events', fontsize=16)\n",
    "ax.set_xlabel('Duration Range (Days)', fontsize=16)\n",
    "fig.savefig('../Figures/verification_wind_bar.png')"
   ]
  }
 ],
 "metadata": {
  "kernelspec": {
   "display_name": "base",
   "language": "python",
   "name": "python3"
  },
  "language_info": {
   "codemirror_mode": {
    "name": "ipython",
    "version": 3
   },
   "file_extension": ".py",
   "mimetype": "text/x-python",
   "name": "python",
   "nbconvert_exporter": "python",
   "pygments_lexer": "ipython3",
   "version": "3.11.5"
  }
 },
 "nbformat": 4,
 "nbformat_minor": 4
}
