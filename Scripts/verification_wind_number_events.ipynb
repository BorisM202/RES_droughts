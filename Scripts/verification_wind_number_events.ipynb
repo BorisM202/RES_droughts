{
 "cells": [
  {
   "cell_type": "code",
   "execution_count": 1,
   "metadata": {},
   "outputs": [],
   "source": [
    "import pandas as pd\n",
    "import numpy as np\n",
    "import matplotlib.pyplot as plt\n",
    "import matplotlib as mpl\n",
    "import seaborn as sns\n",
    "import matplotlib.dates as mdates\n",
    "import matplotlib.ticker as ticker"
   ]
  },
  {
   "cell_type": "code",
   "execution_count": null,
   "metadata": {},
   "outputs": [],
   "source": [
    "plt.rcParams.update({\n",
    "    \"text.usetex\": True,                # Use LaTeX for text\n",
    "    \"font.family\": \"serif\",             # Use 'serif' font\n",
    "    \"font.serif\": [\"Computer Modern\"],  # LaTeX default font\n",
    "    \"font.size\": 11,                    # General font size\n",
    "    \"axes.labelsize\": 11,               # Font size for labels\n",
    "    \"legend.fontsize\": 11,              # Font size for legend\n",
    "    \"xtick.labelsize\": 9,              # Font size for x-axis\n",
    "    \"ytick.labelsize\": 9               # Font size for y-axis\n",
    "})  "
   ]
  },
  {
   "cell_type": "markdown",
   "metadata": {},
   "source": [
    "# Methodology"
   ]
  },
  {
   "cell_type": "markdown",
   "metadata": {},
   "source": [
    "### Define the drought identification method"
   ]
  },
  {
   "cell_type": "code",
   "execution_count": 2,
   "metadata": {},
   "outputs": [],
   "source": [
    "def identify_drought(time_series: pd.Series,threshold:float):\n",
    "    events_thresh = time_series<threshold\n",
    "    raw_events = events_thresh.groupby(events_thresh.ne(events_thresh.shift()).cumsum()).cumsum()\n",
    "    identified_events = raw_events[(raw_events.shift(1) < raw_events) & (raw_events.shift(-1) < raw_events)]\n",
    "    identified_events.index = pd.Index([date - pd.Timedelta(identified_events.loc[date]-1, unit='h') for date in identified_events.index])\n",
    "    return identified_events"
   ]
  },
  {
   "cell_type": "markdown",
   "metadata": {},
   "source": [
    "### Verification data "
   ]
  },
  {
   "cell_type": "code",
   "execution_count": 3,
   "metadata": {},
   "outputs": [],
   "source": [
    "# Read CSV file containing Capacity Factor from EirGrid wind\n",
    "cf_wind = pd.read_csv('../Data/verification_cf_wind_1423.csv',\n",
    "                         index_col = 0,\n",
    "                         parse_dates = True)\n",
    "\n",
    "cf_wind.columns = 'wind_eirgrid', 'wind_atlite', 'wind_c3se_national', 'wind_c3se_gridded'\n",
    "cf_wind_avg = cf_wind.rolling('D', min_periods=24, center=True).mean()"
   ]
  },
  {
   "cell_type": "markdown",
   "metadata": {},
   "source": [
    "Detect Droughts for wind and PV"
   ]
  },
  {
   "cell_type": "code",
   "execution_count": 4,
   "metadata": {},
   "outputs": [],
   "source": [
    "droughts_dict = {}\n",
    "\n",
    "for column_wind in cf_wind_avg:\n",
    "    # Identify events below TH\n",
    "    raw_droughts_wind = identify_drought(cf_wind_avg[column_wind], 0.1)\n",
    "    #Select only events longer than 24 hours\n",
    "    droughts_wind = raw_droughts_wind[raw_droughts_wind > 24]\n",
    "    # Set results in data frames\n",
    "    droughts_df_wind = pd.DataFrame(droughts_wind)\n",
    "    droughts_df_wind = droughts_df_wind.set_axis(['Duration'], axis=1)\n",
    "    # Srt results in dict\n",
    "    droughts_dict[column_wind] = droughts_df_wind"
   ]
  },
  {
   "cell_type": "markdown",
   "metadata": {},
   "source": [
    "## Plots"
   ]
  },
  {
   "cell_type": "code",
   "execution_count": 6,
   "metadata": {},
   "outputs": [],
   "source": [
    "bar_width = 0.2\n",
    "xlabel = ['1-2','2-3','3-4','4-5','5-6','6-7', '7-8','8+', '']\n",
    "\n",
    "# Define duration ranges in hours\n",
    "duration_ranges_hours = [24, 48, 72, 96, 120, 144, 168, 192 ,np.inf]\n",
    "\n",
    "# Convert duration ranges to days\n",
    "duration_ranges_days = [dur / 24 for dur in duration_ranges_hours]\n",
    "\n",
    "# Group datasets based on categories\n",
    "categories = {\n",
    "    'wind': ['wind_eirgrid', 'wind_atlite', 'wind_c3se_gridded', 'wind_c3se_national']\n",
    "}\n",
    "\n",
    "label_name = ['EirGrid', 'Atlite', 'C3S-E Gridded', 'C3S-E National']\n",
    "color_models = ['black', '#B03024', '#348ABD', '#988ED5']"
   ]
  },
  {
   "cell_type": "code",
   "execution_count": 7,
   "metadata": {},
   "outputs": [
    {
     "data": {
      "image/png": "[encoded data removed]",
      "text/plain": [
       "<Figure size 629.921x393.701 with 1 Axes>"
      ]
     },
     "metadata": {},
     "output_type": "display_data"
    }
   ],
   "source": [
    "eirgrid_heights = None\n",
    "positions = np.arange(len(duration_ranges_days) - 1)\n",
    "\n",
    "cm = 1 / 2.54\n",
    "fig, ax = plt.subplots(1, 1, \n",
    "                       figsize=(16*cm, 10*cm),\n",
    "                       sharey=True)\n",
    "\n",
    "# Loop over categories\n",
    "for i, name in enumerate(categories['wind']):\n",
    "    df = droughts_dict[name]\n",
    "\n",
    "    df['DurationRange'] = pd.cut(df['Duration'], bins=duration_ranges_hours)\n",
    "    df['Year'] = df.index.year\n",
    "    annual_counts = df.groupby(['Year', 'DurationRange'], observed=True).size().unstack(fill_value=0)\n",
    "\n",
    "    mean_counts = annual_counts.mean()\n",
    "    std_counts = annual_counts.std()\n",
    "\n",
    "    duration_midpoints = [((dur.left + dur.right) / 2) / 24 for dur in mean_counts.index]  # Convert back to days\n",
    "\n",
    "    if i == 0:\n",
    "        eirgrid_heights = mean_counts.values\n",
    "    else:\n",
    "        ax.bar(\n",
    "            positions + (i - 1) * bar_width - 0.2,\n",
    "            mean_counts,\n",
    "            width=bar_width,\n",
    "            color=color_models[i],\n",
    "            label=label_name[i],\n",
    "            zorder=2)\n",
    "\n",
    "if eirgrid_heights is not None:\n",
    "    ax.bar(\n",
    "        positions,\n",
    "        eirgrid_heights,  \n",
    "        width=bar_width * 3,        \n",
    "        facecolor='none',\n",
    "        edgecolor='black',\n",
    "        linewidth=2,\n",
    "        label='Observation',\n",
    "        zorder=3)\n",
    "\n",
    "ax.legend(loc='upper right', fontsize = 11)\n",
    "ax.margins(0.02)\n",
    "ax.grid(True, alpha=0.2, zorder=0)\n",
    "\n",
    "# Set x-axis ticks and labels\n",
    "ax.set_xticks(np.arange(len(duration_ranges_days)))\n",
    "ax.set_xticklabels(xlabel)\n",
    "\n",
    "ax.set_ylabel('Average annual number of events', fontsize = 11)\n",
    "ax.set_xlabel('Duration Range (Days)', fontsize = 11)\n",
    "fig.tight_layout()\n",
    "fig.savefig('verification_wind_number_events.pdf', bbox_inches='tight')"
   ]
  }
 ],
 "metadata": {
  "kernelspec": {
   "display_name": "base",
   "language": "python",
   "name": "python3"
  },
  "language_info": {
   "codemirror_mode": {
    "name": "ipython",
    "version": 3
   },
   "file_extension": ".py",
   "mimetype": "text/x-python",
   "name": "python",
   "nbconvert_exporter": "python",
   "pygments_lexer": "ipython3",
   "version": "3.11.5"
  }
 },
 "nbformat": 4,
 "nbformat_minor": 4
}
