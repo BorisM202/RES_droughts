{
 "cells": [
  {
   "cell_type": "markdown",
   "metadata": {},
   "source": [
    "Load Librairies"
   ]
  },
  {
   "cell_type": "code",
   "execution_count": null,
   "metadata": {},
   "outputs": [],
   "source": [
    "import pandas as pd\n",
    "import numpy as np\n",
    "import matplotlib.pyplot as plt\n",
    "import matplotlib as mpl\n",
    "import matplotlib.ticker as ticker\n",
    "import matplotlib.patches as mpatches"
   ]
  },
  {
   "cell_type": "markdown",
   "metadata": {},
   "source": []
  },
  {
   "cell_type": "code",
   "execution_count": null,
   "metadata": {},
   "outputs": [],
   "source": [
    "xlabel = ['1-2','2-3','3-4','4-5','5-6','6-7', '7-8','8+', '']\n",
    "\n",
    "duration_ranges_hours = [24, 48, 72, 96, 120, 144, 168, 192 ,np.inf]\n",
    "duration_ranges_days = [dur / 24 for dur in duration_ranges_hours]\n",
    "\n",
    "categories = {\n",
    "    'onshorewind': ['onshorewind_atlite', 'onshorewind_c3se_gridded', 'onshorewind_c3se_national'],\n",
    "    'pv': ['pv_atlite', 'pv_c3se_gridded', 'pv_c3se_national'],\n",
    "    'combine_2023': ['combine_atlite_2023', 'combine_c3se_gridded_2023', 'combine_c3se_national_2023'],\n",
    "    'combine_2030': ['combine_atlite_2030', 'combine_c3se_gridded_2030', 'combine_c3se_national_2030']\n",
    "}\n",
    "\n",
    "bar_width = 0.2\n",
    "label_name = ['Atlite', 'C3S-E G', 'C3S-E N']\n",
    "title_name = ['a) Wind', 'b) PV', 'c) Current', 'd) Projected']\n",
    "color_models = ['#E24A33', '#348ABD', '#988ED5']"
   ]
  },
  {
   "cell_type": "code",
   "execution_count": null,
   "metadata": {},
   "outputs": [],
   "source": [
    "def my_title(ax, title):\n",
    "    ax.set_title(title, \n",
    "                 x=0.5, y=0.945,\n",
    "                 transform=ax.transAxes,\n",
    "                 fontsize=16, \n",
    "                 bbox=dict(facecolor='white', alpha=1)\n",
    "    )"
   ]
  },
  {
   "cell_type": "code",
   "execution_count": null,
   "metadata": {},
   "outputs": [],
   "source": [
    "# Create subplots\n",
    "fig, axs = plt.subplots(2, 2, figsize=(9, 6), sharex=True, sharey=True)\n",
    "axs = axs.flatten()\n",
    "\n",
    "# Loop over categories\n",
    "for idx, (category, datasets_in_category) in enumerate(categories.items()):\n",
    "    ax = axs[idx]\n",
    "\n",
    "\n",
    "    # Initialize the position for bars\n",
    "    bar_width = 0.25\n",
    "    positions = np.arange(1, len(duration_ranges_days))\n",
    "\n",
    "    # Loop over datasets in category\n",
    "    for i, name in enumerate(datasets_in_category):\n",
    "        df = droughts_dict[name]\n",
    "        # Calculate annual number of events for each duration range\n",
    "        df['DurationRange'] = pd.cut(df['Duration'], bins=duration_ranges_hours)\n",
    "        df['Year'] = df.index.year\n",
    "        annual_counts = df.groupby(['Year', 'DurationRange'], observed=True).size().unstack(fill_value=0)\n",
    "        \n",
    "        # Reindex to ensure all duration ranges are represented\n",
    "        full_duration_ranges = pd.IntervalIndex.from_breaks(duration_ranges_hours, closed='right')\n",
    "        annual_counts = annual_counts.reindex(columns=full_duration_ranges, fill_value=0)\n",
    "\n",
    "        # Extract the data for the boxplot\n",
    "        boxplot_data = [annual_counts[duration].values for duration in full_duration_ranges]\n",
    "\n",
    "        # Plot boxplot\n",
    "        boxprop = dict(facecolor=color_models[i], color=color_models[i], linewidth=2)       # Parameters for the box\n",
    "        medianprop = dict(color='black', linewidth=2)                                       # Parameters for median line\n",
    "        flierprop = dict(markeredgecolor=color_models[i], marker='o', ms=1)                       # Parameters for fliers \n",
    "        bplot = ax.boxplot(boxplot_data, positions=positions + i * 0.2 - 0.2, widths=0.16,  # Draw\n",
    "                            patch_artist = True,                                            # Fills boxplot         \n",
    "                            boxprops = boxprop,                                             # Parameters for the box\n",
    "                            medianprops = medianprop,                                       # Parameters for median line\n",
    "                            whis = (5,95),\n",
    "                            showfliers = False, flierprops = flierprop,                      # Show the fliers\n",
    "                            manage_ticks = False,                                           # Set the xlabels manually\n",
    "                            notch = False,                                                  # Curve boxplot\n",
    "                            capwidths = 0,\n",
    "                            # meanline = False, showmeans = True,                             # Show Mean as line or points\n",
    "                            zorder=2\n",
    "        )                                                       \n",
    "\n",
    "\n",
    "    my_title(ax, title_name[idx])\n",
    "    ax.set_xticks(np.arange(1, len(duration_ranges_days)+1))\n",
    "    ax.set_xticklabels(xlabel)\n",
    "    ax.grid(True, alpha=0.3, zorder=0)\n",
    "    ax.margins(0.02)\n",
    "\n",
    "## Legend \n",
    "handles = [mpatches.Patch(color=color_models[i], label=label_name[i]) for i in range(len(color_models))]\n",
    "fig.legend(handles=handles, loc = 'upper center', alignment = 'center', ncols=3)\n",
    "\n",
    "fig.supxlabel('Duration Range (days)')\n",
    "fig.supylabel('Annual Number of Events')\n",
    "# fig.suptitle('Annual Number of Events by Duration Range')\n",
    "fig.tight_layout()\n",
    "fig.subplots_adjust(top=0.92)\n",
    "\n",
    "# fig.savefig('../Figures/boxplot_number_events.png', dpi=300)"
   ]
  }
 ],
 "metadata": {
  "kernelspec": {
   "display_name": "base",
   "language": "python",
   "name": "python3"
  },
  "language_info": {
   "name": "python",
   "version": "3.11.5"
  }
 },
 "nbformat": 4,
 "nbformat_minor": 2
}
