{
 "cells": [
  {
   "cell_type": "code",
   "execution_count": 13,
   "metadata": {},
   "outputs": [],
   "source": [
    "import numpy as np\n",
    "import pandas as pd\n",
    "import matplotlib.pyplot as plt\n",
    "import matplotlib as mpl"
   ]
  },
  {
   "cell_type": "code",
   "execution_count": 14,
   "metadata": {},
   "outputs": [],
   "source": [
    "plt.rcParams.update({\n",
    "    \"text.usetex\": True,                # Use LaTeX for text\n",
    "    \"font.family\": \"serif\",             # Use 'serif' font\n",
    "    \"font.serif\": [\"Computer Modern\"],  # LaTeX default font\n",
    "    \"axes.labelsize\": 11,               # Font size for labels\n",
    "    \"font.size\": 11,                    # General font size\n",
    "    \"legend.fontsize\": 11,              # Font size for legend\n",
    "    \"xtick.labelsize\": 10,              # Font size for x-axis\n",
    "    \"ytick.labelsize\": 10               # Font size for y-axis\n",
    "})"
   ]
  },
  {
   "cell_type": "code",
   "execution_count": 15,
   "metadata": {},
   "outputs": [],
   "source": [
    "cf_pv = pd.read_csv('../Data/verification_cf_pv_1823.csv',\n",
    "                         index_col = 0,\n",
    "                         parse_dates = True)\n",
    "\n",
    "cf_pv.columns = 'EirGrid', 'Atlite', 'C3S-E N', 'C3S-E G'\n"
   ]
  },
  {
   "cell_type": "markdown",
   "metadata": {},
   "source": [
    "## Verification metrics"
   ]
  },
  {
   "cell_type": "code",
   "execution_count": 16,
   "metadata": {},
   "outputs": [],
   "source": [
    "# Define metrics\n",
    "def calculate_metrics(reference, model):\n",
    "    cc = np.corrcoef(reference, model)[0, 1]\n",
    "    rmse = np.sqrt(np.mean((reference - model) ** 2))\n",
    "    mbe = np.mean(model - reference)\n",
    "    return np.round(cc, 3), np.round(rmse,3),  np.round(mbe,3)"
   ]
  },
  {
   "cell_type": "code",
   "execution_count": 17,
   "metadata": {},
   "outputs": [],
   "source": [
    "metrics = {}\n",
    "reference = cf_pv[\"EirGrid\"]\n",
    "models = [\"Atlite\", \"C3S-E G\", \"C3S-E N\"]"
   ]
  },
  {
   "cell_type": "code",
   "execution_count": 18,
   "metadata": {},
   "outputs": [
    {
     "data": {
      "text/html": [
       "<div>\n",
       "<style scoped>\n",
       "    .dataframe tbody tr th:only-of-type {\n",
       "        vertical-align: middle;\n",
       "    }\n",
       "\n",
       "    .dataframe tbody tr th {\n",
       "        vertical-align: top;\n",
       "    }\n",
       "\n",
       "    .dataframe thead th {\n",
       "        text-align: right;\n",
       "    }\n",
       "</style>\n",
       "<table border=\"1\" class=\"dataframe\">\n",
       "  <thead>\n",
       "    <tr style=\"text-align: right;\">\n",
       "      <th></th>\n",
       "      <th>Atlite</th>\n",
       "      <th>C3S-E G</th>\n",
       "      <th>C3S-E N</th>\n",
       "    </tr>\n",
       "  </thead>\n",
       "  <tbody>\n",
       "    <tr>\n",
       "      <th>CC</th>\n",
       "      <td>0.921</td>\n",
       "      <td>0.931</td>\n",
       "      <td>0.931</td>\n",
       "    </tr>\n",
       "    <tr>\n",
       "      <th>RMSE</th>\n",
       "      <td>0.119</td>\n",
       "      <td>0.090</td>\n",
       "      <td>0.083</td>\n",
       "    </tr>\n",
       "    <tr>\n",
       "      <th>MBE</th>\n",
       "      <td>0.046</td>\n",
       "      <td>0.027</td>\n",
       "      <td>0.021</td>\n",
       "    </tr>\n",
       "  </tbody>\n",
       "</table>\n",
       "</div>"
      ],
      "text/plain": [
       "      Atlite  C3S-E G  C3S-E N\n",
       "CC     0.921    0.931    0.931\n",
       "RMSE   0.119    0.090    0.083\n",
       "MBE    0.046    0.027    0.021"
      ]
     },
     "execution_count": 18,
     "metadata": {},
     "output_type": "execute_result"
    }
   ],
   "source": [
    "for model in models:\n",
    "    metrics[model] = calculate_metrics(reference, cf_pv[model])\n",
    "\n",
    "metrics_df = pd.DataFrame(metrics, index=[\"CC\", \"RMSE\", \"MBE\"])\n",
    "\n",
    "metrics_df"
   ]
  },
  {
   "cell_type": "markdown",
   "metadata": {},
   "source": [
    "# Plot"
   ]
  },
  {
   "cell_type": "code",
   "execution_count": 19,
   "metadata": {},
   "outputs": [],
   "source": [
    "def truncate_colormap(cmap, minval=0.0, maxval=1.0, n=100):\n",
    "    new_cmap = mpl.colors.LinearSegmentedColormap.from_list(\n",
    "        'trunc({n},{a:.2f},{b:.2f})'.format(n=cmap.name, a=minval, b=maxval),\n",
    "        cmap(np.linspace(minval, maxval, n)))\n",
    "    return new_cmap"
   ]
  },
  {
   "cell_type": "code",
   "execution_count": 20,
   "metadata": {},
   "outputs": [],
   "source": [
    "cmap = truncate_colormap(mpl.colormaps['viridis'], maxval=0.2, minval=0.95)\n",
    "cmap = cmap.resampled(6)\n",
    "bins = np.arange(-0.025, 1.05, 0.05)\n",
    "centered_bins = 0.5 * (bins[1:] + bins[:-1])"
   ]
  },
  {
   "cell_type": "code",
   "execution_count": 21,
   "metadata": {},
   "outputs": [],
   "source": [
    "bounds = [10, 50, 100, 500, 1000, 25000]\n",
    "norm = mpl.colors.BoundaryNorm(bounds, cmap.N)"
   ]
  },
  {
   "cell_type": "code",
   "execution_count": 22,
   "metadata": {},
   "outputs": [],
   "source": [
    "models = {\n",
    "    'Atlite': cf_pv['Atlite'].values,\n",
    "    'C3S-E G': cf_pv['C3S-E G'].values,\n",
    "    'C3S-E N': cf_pv['C3S-E N'].fillna(0.).values\n",
    "}"
   ]
  },
  {
   "cell_type": "code",
   "execution_count": 24,
   "metadata": {},
   "outputs": [
    {
     "data": {
      "image/png": "[encoded data removed]",
      "text/plain": [
       "<Figure size 629.921x196.85 with 4 Axes>"
      ]
     },
     "metadata": {},
     "output_type": "display_data"
    }
   ],
   "source": [
    "# cm / in ratio\n",
    "cm = 1 / 2.54\n",
    "fig, ax = plt.subplots(1, 3, \n",
    "                       figsize=(16 * cm, 5 * cm),\n",
    "                       constrained_layout=True)\n",
    "\n",
    "# Loop through models to create plots\n",
    "for i, (label, model_data) in enumerate(models.items()):\n",
    "\n",
    "    hist, _, _ = np.histogram2d(\n",
    "        x=model_data,\n",
    "        y=cf_pv['EirGrid'].values,\n",
    "        bins=bins,\n",
    "        density=False)\n",
    "    \n",
    "    # Scatter plot\n",
    "    ax[i].scatter(\n",
    "        x=model_data,\n",
    "        y=cf_pv['EirGrid'].values,\n",
    "        marker='x',\n",
    "        c='k',\n",
    "        s=10,\n",
    "        lw=0.5,\n",
    "        zorder=2)\n",
    "    \n",
    "    # Contour plot\n",
    "    im = ax[i].contourf(\n",
    "        centered_bins,\n",
    "        centered_bins,\n",
    "        hist.T,\n",
    "        levels=bounds,\n",
    "        cmap=cmap,\n",
    "        norm=norm,\n",
    "        extend='max',\n",
    "        zorder=3)\n",
    "    \n",
    "    # Add diagonal line\n",
    "    ax[i].plot(bins, bins, c='k', lw=2, ls='--', zorder=5)\n",
    "    \n",
    "    # Set axis properties\n",
    "    ax[i].set_aspect(1.)\n",
    "    ax[i].set_xlim(0, 1)\n",
    "    ax[i].set_ylim(0, 1)\n",
    "    ax[i].grid(alpha=0.3)\n",
    "    ax[i].set_xlabel(f'{label} CF', fontsize = 11)\n",
    "\n",
    "    ax[0].set_yticks([0, 0.25, 0.5, 0.75, 1])\n",
    "    ax[0].set_yticklabels(['0', '0.25', '0.50', '0.75', '1'])\n",
    "    ax[i].set_xticks([0, 0.25, 0.5, 0.75, 1])\n",
    "    ax[i].set_xticklabels(['0', '0.25', '0.50', '0.75', '1'])\n",
    "\n",
    "    if i != 0:\n",
    "        ax[i].set_yticklabels([])\n",
    "    else:\n",
    "        ax[i].set_ylabel('Observed CF', fontsize = 11)\n",
    "\n",
    "    ax[i].text(0.02, 0.98, f'{chr(97 + i)})', ha='left', va='top')\n",
    "\n",
    "cbar = fig.colorbar(im, ax=ax[2])\n",
    "cbar.set_label('Number of hours', labelpad=-5, fontsize = 11)\n",
    "\n",
    "# Save the figure\n",
    "plt.savefig('verification_pv_contour.png', bbox_inches='tight', dpi=300)"
   ]
  }
 ],
 "metadata": {
  "kernelspec": {
   "display_name": "base",
   "language": "python",
   "name": "python3"
  },
  "language_info": {
   "codemirror_mode": {
    "name": "ipython",
    "version": 3
   },
   "file_extension": ".py",
   "mimetype": "text/x-python",
   "name": "python",
   "nbconvert_exporter": "python",
   "pygments_lexer": "ipython3",
   "version": "3.11.5"
  }
 },
 "nbformat": 4,
 "nbformat_minor": 4
}
