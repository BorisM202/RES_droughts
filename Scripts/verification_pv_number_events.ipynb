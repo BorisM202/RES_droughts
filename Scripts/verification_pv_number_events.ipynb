{
 "cells": [
  {
   "cell_type": "code",
   "execution_count": 61,
   "metadata": {},
   "outputs": [],
   "source": [
    "import numpy as np                  # Data\n",
    "import pandas as pd                 # Data  \n",
    "import matplotlib.pyplot as plt     # Plot\n",
    "import matplotlib.ticker as ticker  # Plot"
   ]
  },
  {
   "cell_type": "code",
   "execution_count": 62,
   "metadata": {},
   "outputs": [],
   "source": [
    "plt.rcParams.update({\n",
    "    \"text.usetex\": True,                # Use LaTeX for text\n",
    "    \"font.family\": \"serif\",             # Use 'serif' font\n",
    "    \"font.serif\": [\"Computer Modern\"],  # LaTeX default font\n",
    "    \"font.size\": 11,                    # General font size\n",
    "    \"axes.labelsize\": 11,               # Font size for labels\n",
    "    \"legend.fontsize\": 11,              # Font size for legend\n",
    "    \"xtick.labelsize\": 9,              # Font size for x-axis\n",
    "    \"ytick.labelsize\": 9               # Font size for y-axis\n",
    "})  "
   ]
  },
  {
   "cell_type": "markdown",
   "metadata": {},
   "source": [
    "# Methodology"
   ]
  },
  {
   "cell_type": "markdown",
   "metadata": {},
   "source": [
    "### Define the drought identification method"
   ]
  },
  {
   "cell_type": "code",
   "execution_count": 63,
   "metadata": {},
   "outputs": [],
   "source": [
    "def identify_drought(time_series: pd.Series,threshold:float):\n",
    "    events_thresh = time_series<threshold\n",
    "    raw_events = events_thresh.groupby(events_thresh.ne(events_thresh.shift()).cumsum()).cumsum()\n",
    "    identified_events = raw_events[(raw_events.shift(1) < raw_events) & (raw_events.shift(-1) < raw_events)]\n",
    "    identified_events.index = pd.Index([date - pd.Timedelta(identified_events.loc[date]-1, unit='h') for date in identified_events.index])\n",
    "    return identified_events"
   ]
  },
  {
   "cell_type": "markdown",
   "metadata": {},
   "source": [
    "### Verification data "
   ]
  },
  {
   "cell_type": "code",
   "execution_count": 64,
   "metadata": {},
   "outputs": [
    {
     "data": {
      "text/html": [
       "<div>\n",
       "<style scoped>\n",
       "    .dataframe tbody tr th:only-of-type {\n",
       "        vertical-align: middle;\n",
       "    }\n",
       "\n",
       "    .dataframe tbody tr th {\n",
       "        vertical-align: top;\n",
       "    }\n",
       "\n",
       "    .dataframe thead th {\n",
       "        text-align: right;\n",
       "    }\n",
       "</style>\n",
       "<table border=\"1\" class=\"dataframe\">\n",
       "  <thead>\n",
       "    <tr style=\"text-align: right;\">\n",
       "      <th></th>\n",
       "      <th>pv_eirgrid</th>\n",
       "      <th>pv_atlite</th>\n",
       "      <th>pv_c3se_national</th>\n",
       "      <th>pv_c3se_gridded</th>\n",
       "    </tr>\n",
       "    <tr>\n",
       "      <th>time</th>\n",
       "      <th></th>\n",
       "      <th></th>\n",
       "      <th></th>\n",
       "      <th></th>\n",
       "    </tr>\n",
       "  </thead>\n",
       "  <tbody>\n",
       "    <tr>\n",
       "      <th>2018-01-01 00:00:00</th>\n",
       "      <td>NaN</td>\n",
       "      <td>NaN</td>\n",
       "      <td>NaN</td>\n",
       "      <td>NaN</td>\n",
       "    </tr>\n",
       "    <tr>\n",
       "      <th>2018-01-01 01:00:00</th>\n",
       "      <td>NaN</td>\n",
       "      <td>NaN</td>\n",
       "      <td>NaN</td>\n",
       "      <td>NaN</td>\n",
       "    </tr>\n",
       "    <tr>\n",
       "      <th>2018-01-01 02:00:00</th>\n",
       "      <td>NaN</td>\n",
       "      <td>NaN</td>\n",
       "      <td>NaN</td>\n",
       "      <td>NaN</td>\n",
       "    </tr>\n",
       "    <tr>\n",
       "      <th>2018-01-01 03:00:00</th>\n",
       "      <td>NaN</td>\n",
       "      <td>NaN</td>\n",
       "      <td>NaN</td>\n",
       "      <td>NaN</td>\n",
       "    </tr>\n",
       "    <tr>\n",
       "      <th>2018-01-01 04:00:00</th>\n",
       "      <td>NaN</td>\n",
       "      <td>NaN</td>\n",
       "      <td>NaN</td>\n",
       "      <td>NaN</td>\n",
       "    </tr>\n",
       "    <tr>\n",
       "      <th>...</th>\n",
       "      <td>...</td>\n",
       "      <td>...</td>\n",
       "      <td>...</td>\n",
       "      <td>...</td>\n",
       "    </tr>\n",
       "    <tr>\n",
       "      <th>2023-12-31 19:00:00</th>\n",
       "      <td>NaN</td>\n",
       "      <td>NaN</td>\n",
       "      <td>NaN</td>\n",
       "      <td>NaN</td>\n",
       "    </tr>\n",
       "    <tr>\n",
       "      <th>2023-12-31 20:00:00</th>\n",
       "      <td>NaN</td>\n",
       "      <td>NaN</td>\n",
       "      <td>NaN</td>\n",
       "      <td>NaN</td>\n",
       "    </tr>\n",
       "    <tr>\n",
       "      <th>2023-12-31 21:00:00</th>\n",
       "      <td>NaN</td>\n",
       "      <td>NaN</td>\n",
       "      <td>NaN</td>\n",
       "      <td>NaN</td>\n",
       "    </tr>\n",
       "    <tr>\n",
       "      <th>2023-12-31 22:00:00</th>\n",
       "      <td>NaN</td>\n",
       "      <td>NaN</td>\n",
       "      <td>NaN</td>\n",
       "      <td>NaN</td>\n",
       "    </tr>\n",
       "    <tr>\n",
       "      <th>2023-12-31 23:00:00</th>\n",
       "      <td>NaN</td>\n",
       "      <td>NaN</td>\n",
       "      <td>NaN</td>\n",
       "      <td>NaN</td>\n",
       "    </tr>\n",
       "  </tbody>\n",
       "</table>\n",
       "<p>52584 rows × 4 columns</p>\n",
       "</div>"
      ],
      "text/plain": [
       "                     pv_eirgrid  pv_atlite  pv_c3se_national  pv_c3se_gridded\n",
       "time                                                                         \n",
       "2018-01-01 00:00:00         NaN        NaN               NaN              NaN\n",
       "2018-01-01 01:00:00         NaN        NaN               NaN              NaN\n",
       "2018-01-01 02:00:00         NaN        NaN               NaN              NaN\n",
       "2018-01-01 03:00:00         NaN        NaN               NaN              NaN\n",
       "2018-01-01 04:00:00         NaN        NaN               NaN              NaN\n",
       "...                         ...        ...               ...              ...\n",
       "2023-12-31 19:00:00         NaN        NaN               NaN              NaN\n",
       "2023-12-31 20:00:00         NaN        NaN               NaN              NaN\n",
       "2023-12-31 21:00:00         NaN        NaN               NaN              NaN\n",
       "2023-12-31 22:00:00         NaN        NaN               NaN              NaN\n",
       "2023-12-31 23:00:00         NaN        NaN               NaN              NaN\n",
       "\n",
       "[52584 rows x 4 columns]"
      ]
     },
     "execution_count": 64,
     "metadata": {},
     "output_type": "execute_result"
    }
   ],
   "source": [
    "# Read CSV file containing Capacity Factor from EirGrid wind\n",
    "cf_pv = pd.read_csv('../Data/verification_cf_pv_1823.csv',\n",
    "                         index_col = 0,\n",
    "                         parse_dates = True)\n",
    "\n",
    "cf_pv.columns = 'pv_eirgrid', 'pv_atlite', 'pv_c3se_national', 'pv_c3se_gridded'\n",
    "\n",
    "cf_pv_avg = cf_pv.rolling('D', min_periods=24, center=True).mean()\n",
    "cf_pv_avg"
   ]
  },
  {
   "cell_type": "markdown",
   "metadata": {},
   "source": [
    "Detect droughts for PV"
   ]
  },
  {
   "cell_type": "code",
   "execution_count": 65,
   "metadata": {},
   "outputs": [],
   "source": [
    "droughts_dict = {}\n",
    "\n",
    "for column_pv in cf_pv_avg:\n",
    "    raw_droughts_pv = identify_drought(cf_pv_avg[column_pv], 0.1)\n",
    "    droughts_pv = raw_droughts_pv[raw_droughts_pv > 24]\n",
    "    droughts_df_pv = pd.DataFrame(droughts_pv)\n",
    "    droughts_df_pv = droughts_df_pv.set_axis(['Duration'], axis=1)\n",
    "    droughts_dict[column_pv] = droughts_df_pv"
   ]
  },
  {
   "cell_type": "markdown",
   "metadata": {},
   "source": [
    "## Plots"
   ]
  },
  {
   "cell_type": "code",
   "execution_count": 66,
   "metadata": {},
   "outputs": [],
   "source": [
    "def my_title(ax, title):\n",
    "    ax.set_title(title, x=0.5, y=0.945, transform=ax.transAxes, fontsize=16, \n",
    "                 bbox=dict(facecolor='white', alpha=1))"
   ]
  },
  {
   "cell_type": "code",
   "execution_count": 67,
   "metadata": {},
   "outputs": [],
   "source": [
    "bar_width = 0.2\n",
    "xlabel = ['1-2','2-3','3-4','4-5','5-6','6-7', '7-8','8+', '']\n",
    "\n",
    "# Define duration ranges in hours\n",
    "duration_ranges_hours = [24, 48, 72, 96, 120, 144, 168, 192 ,np.inf]\n",
    "\n",
    "# Convert duration ranges to days\n",
    "duration_ranges_days = [dur / 24 for dur in duration_ranges_hours]\n",
    "\n",
    "# Group datasets based on categories\n",
    "categories = {\n",
    "    'pv': ['pv_eirgrid', 'pv_atlite', 'pv_c3se_gridded', 'pv_c3se_national']\n",
    "}\n",
    "\n",
    "label_name = ['EirGrid', 'Atlite', 'C3S-E Gridded', 'C3S-E National']\n",
    "color_models = ['black', '#B03024', '#348ABD', '#988ED5']"
   ]
  },
  {
   "cell_type": "code",
   "execution_count": 68,
   "metadata": {},
   "outputs": [
    {
     "data": {
      "image/png": "[encoded data removed]",
      "text/plain": [
       "<Figure size 629.921x393.701 with 1 Axes>"
      ]
     },
     "metadata": {},
     "output_type": "display_data"
    }
   ],
   "source": [
    "eirgrid_heights = None\n",
    "positions = np.arange(len(duration_ranges_days) - 1)\n",
    "\n",
    "cm = 1 / 2.54\n",
    "fig, ax = plt.subplots(1, 1, \n",
    "                       figsize=(16*cm, 10*cm),\n",
    "                       sharey=True)\n",
    "\n",
    "# Loop over categories for PV\n",
    "for i, name in enumerate(categories['pv']):\n",
    "    df = droughts_dict[name]\n",
    "    df = df.loc['2023', :]\n",
    "\n",
    "    # Calculate number of events for each duration range\n",
    "    df['DurationRange'] = pd.cut(df['Duration'], bins=duration_ranges_hours)\n",
    "    df['Year'] = df.index.year\n",
    "    annual_counts = df.groupby(['Year', 'DurationRange'], observed=True).size().unstack(fill_value=0)\n",
    "\n",
    "    all_duration_ranges = pd.cut([], bins=duration_ranges_hours).categories\n",
    "    annual_counts = annual_counts.reindex(columns=all_duration_ranges, fill_value=0)\n",
    "\n",
    "    if i == 0:\n",
    "        eirgrid_heights = annual_counts.values[0]\n",
    "    else:\n",
    "        ax.bar(positions + (i - 1) * bar_width - 0.2,\n",
    "               annual_counts.values[0],\n",
    "               width=bar_width,\n",
    "               color=color_models[i],\n",
    "               label=label_name[i],\n",
    "               zorder=2)\n",
    "\n",
    "if eirgrid_heights is not None:\n",
    "    ax.bar(positions,\n",
    "           eirgrid_heights,  \n",
    "           width=bar_width * 3,        \n",
    "           facecolor='none',\n",
    "           edgecolor='black',\n",
    "           linewidth=2,\n",
    "           label='Observation',\n",
    "           zorder=3)\n",
    "\n",
    "ax.legend(loc='upper right', fontsize=11)\n",
    "ax.margins(0.02)\n",
    "ax.grid(True, alpha=0.2, zorder=0)\n",
    "\n",
    "# Set x-axis ticks and labels\n",
    "ax.set_xticks(np.arange(len(duration_ranges_days)))\n",
    "ax.set_xticklabels(xlabel)\n",
    "ax.yaxis.set_major_locator(ticker.IndexLocator(base=2, offset=0))\n",
    "\n",
    "ax.set_ylabel('Annual number of events', fontsize=11)\n",
    "ax.set_xlabel('Duration Range (Days)', fontsize=11)\n",
    "fig.tight_layout()\n",
    "fig.savefig('verification_pv_number_events.pdf', bbox_inches='tight')"
   ]
  }
 ],
 "metadata": {
  "kernelspec": {
   "display_name": "base",
   "language": "python",
   "name": "python3"
  },
  "language_info": {
   "codemirror_mode": {
    "name": "ipython",
    "version": 3
   },
   "file_extension": ".py",
   "mimetype": "text/x-python",
   "name": "python",
   "nbconvert_exporter": "python",
   "pygments_lexer": "ipython3",
   "version": "3.11.5"
  }
 },
 "nbformat": 4,
 "nbformat_minor": 4
}
