{
 "cells": [
  {
   "cell_type": "code",
   "execution_count": 2,
   "metadata": {},
   "outputs": [],
   "source": [
    "import numpy as np                  # Data\n",
    "import pandas as pd                 # Data  \n",
    "import matplotlib.pyplot as plt     # Plot\n",
    "import matplotlib.ticker as ticker  # Plot"
   ]
  },
  {
   "cell_type": "code",
   "execution_count": 3,
   "metadata": {},
   "outputs": [],
   "source": [
    "plt.rcParams.update({\n",
    "    \"text.usetex\": True,                # Use LaTeX for text\n",
    "    \"font.family\": \"serif\",             # Use 'serif' font\n",
    "    \"font.serif\": [\"Computer Modern\"],  # LaTeX default font\n",
    "    \"font.size\": 11,                    # General font size\n",
    "    \"axes.labelsize\": 11,               # Font size for labels\n",
    "    \"legend.fontsize\": 11,              # Font size for legend\n",
    "    \"xtick.labelsize\": 9,              # Font size for x-axis\n",
    "    \"ytick.labelsize\": 9               # Font size for y-axis\n",
    "})  "
   ]
  },
  {
   "cell_type": "markdown",
   "metadata": {},
   "source": [
    "# Methodology"
   ]
  },
  {
   "cell_type": "markdown",
   "metadata": {},
   "source": [
    "### Define the drought identification method"
   ]
  },
  {
   "cell_type": "code",
   "execution_count": 4,
   "metadata": {},
   "outputs": [],
   "source": [
    "def identify_drought(time_series: pd.Series,threshold:float):\n",
    "    events_thresh = time_series<threshold\n",
    "    raw_events = events_thresh.groupby(events_thresh.ne(events_thresh.shift()).cumsum()).cumsum()\n",
    "    identified_events = raw_events[(raw_events.shift(1) < raw_events) & (raw_events.shift(-1) < raw_events)]\n",
    "    identified_events.index = pd.Index([date - pd.Timedelta(identified_events.loc[date]-1, unit='h') for date in identified_events.index])\n",
    "    return identified_events"
   ]
  },
  {
   "cell_type": "markdown",
   "metadata": {},
   "source": [
    "### Verification data "
   ]
  },
  {
   "cell_type": "code",
   "execution_count": 9,
   "metadata": {},
   "outputs": [
    {
     "data": {
      "application/vnd.microsoft.datawrangler.viewer.v0+json": {
       "columns": [
        {
         "name": "time",
         "rawType": "datetime64[ns]",
         "type": "datetime"
        },
        {
         "name": "EirGrid",
         "rawType": "float64",
         "type": "float"
        },
        {
         "name": "ATL",
         "rawType": "float64",
         "type": "float"
        },
        {
         "name": "C3S NAT",
         "rawType": "float64",
         "type": "float"
        },
        {
         "name": "C3S GRD",
         "rawType": "float64",
         "type": "float"
        }
       ],
       "conversionMethod": "pd.DataFrame",
       "ref": "6334b324-f846-4d32-83d7-127a7834f970",
       "rows": [
        [
         "2018-01-01 00:00:00",
         null,
         null,
         null,
         null
        ],
        [
         "2018-01-01 01:00:00",
         null,
         null,
         null,
         null
        ],
        [
         "2018-01-01 02:00:00",
         null,
         null,
         null,
         null
        ],
        [
         "2018-01-01 03:00:00",
         null,
         null,
         null,
         null
        ],
        [
         "2018-01-01 04:00:00",
         null,
         null,
         null,
         null
        ],
        [
         "2018-01-01 05:00:00",
         null,
         null,
         null,
         null
        ],
        [
         "2018-01-01 06:00:00",
         null,
         null,
         null,
         null
        ],
        [
         "2018-01-01 07:00:00",
         null,
         null,
         null,
         null
        ],
        [
         "2018-01-01 08:00:00",
         null,
         null,
         null,
         null
        ],
        [
         "2018-01-01 09:00:00",
         null,
         null,
         null,
         null
        ],
        [
         "2018-01-01 10:00:00",
         null,
         null,
         null,
         null
        ],
        [
         "2018-01-01 11:00:00",
         "0.015223357759037411",
         "0.04297319842286179",
         "0.025660271062756635",
         "0.028234447362674303"
        ],
        [
         "2018-01-01 12:00:00",
         "0.015223357759037411",
         "0.04297319842286179",
         "0.025660271062756635",
         "0.028234447362674303"
        ],
        [
         "2018-01-01 13:00:00",
         "0.015223357759037411",
         "0.04297319842286179",
         "0.025660271062756635",
         "0.028234447362674303"
        ],
        [
         "2018-01-01 14:00:00",
         "0.015223357759037411",
         "0.04297319842286179",
         "0.025660271062756635",
         "0.028234447362674303"
        ],
        [
         "2018-01-01 15:00:00",
         "0.015223357759037411",
         "0.04297319842286179",
         "0.025660271062756635",
         "0.028234447362674303"
        ],
        [
         "2018-01-01 16:00:00",
         "0.015223357759037411",
         "0.04297319842286179",
         "0.025660271062756635",
         "0.028234447362674303"
        ],
        [
         "2018-01-01 17:00:00",
         "0.015223357759037411",
         "0.04297319842286179",
         "0.025660271062756635",
         "0.028234447362674303"
        ],
        [
         "2018-01-01 18:00:00",
         "0.015223357759037411",
         "0.04297319842286179",
         "0.025660271062756635",
         "0.028234447362674303"
        ],
        [
         "2018-01-01 19:00:00",
         "0.015223357759037411",
         "0.04297319842286179",
         "0.025660271062756635",
         "0.028234447362674303"
        ],
        [
         "2018-01-01 20:00:00",
         "0.015223357759037411",
         "0.04297319842286179",
         "0.025660271062756635",
         "0.028234447362674303"
        ],
        [
         "2018-01-01 21:00:00",
         "0.015223357759037411",
         "0.04297319842286179",
         "0.025660271062756635",
         "0.028234447362674303"
        ],
        [
         "2018-01-01 22:00:00",
         "0.01618897489395383",
         "0.039409708693439",
         "0.024834657698230008",
         "0.027127926454621018"
        ],
        [
         "2018-01-01 23:00:00",
         "0.019061454281021885",
         "0.03658560830862496",
         "0.024589401437066696",
         "0.02504883573535482"
        ],
        [
         "2018-01-02 00:00:00",
         "0.024560266704640232",
         "0.04507305865106398",
         "0.032637824196602896",
         "0.03004112127477347"
        ],
        [
         "2018-01-02 01:00:00",
         "0.024194465878176353",
         "0.06259408454640845",
         "0.04385583299271247",
         "0.04249982818417549"
        ],
        [
         "2018-01-02 02:00:00",
         "0.020745770235976024",
         "0.07320192545621716",
         "0.049322219097454933",
         "0.05194567032399237"
        ],
        [
         "2018-01-02 03:00:00",
         "0.01976691942630059",
         "0.07237311055812078",
         "0.047350715508039376",
         "0.05251692175602862"
        ],
        [
         "2018-01-02 04:00:00",
         "0.01972843148887644",
         "0.06842575549694561",
         "0.04420111173002991",
         "0.04998311466327356"
        ],
        [
         "2018-01-02 05:00:00",
         "0.01972843148887644",
         "0.06842575549694561",
         "0.044201111730029906",
         "0.04998311466327356"
        ],
        [
         "2018-01-02 06:00:00",
         "0.01972843148887644",
         "0.06842575549694561",
         "0.044201111730029906",
         "0.04998311466327356"
        ],
        [
         "2018-01-02 07:00:00",
         "0.01972843148887644",
         "0.06842575549694561",
         "0.044201111730029906",
         "0.04998311466327356"
        ],
        [
         "2018-01-02 08:00:00",
         "0.01972843148887644",
         "0.06842575549694561",
         "0.044201111730029906",
         "0.04998311466327356"
        ],
        [
         "2018-01-02 09:00:00",
         "0.01972843148887644",
         "0.06842575549694561",
         "0.044201111730029906",
         "0.04998311466327356"
        ],
        [
         "2018-01-02 10:00:00",
         "0.01972843148887644",
         "0.06842575549694561",
         "0.044201111730029906",
         "0.04998311466327356"
        ],
        [
         "2018-01-02 11:00:00",
         "0.01972843148887644",
         "0.06842575549694561",
         "0.044201111730029906",
         "0.04998311466327356"
        ],
        [
         "2018-01-02 12:00:00",
         "0.01972843148887644",
         "0.06842575549694561",
         "0.044201111730029906",
         "0.04998311466327356"
        ],
        [
         "2018-01-02 13:00:00",
         "0.01972843148887644",
         "0.06842575549694561",
         "0.044201111730029906",
         "0.04998311466327356"
        ],
        [
         "2018-01-02 14:00:00",
         "0.01972843148887644",
         "0.06842575549694561",
         "0.044201111730029906",
         "0.04998311466327356"
        ],
        [
         "2018-01-02 15:00:00",
         "0.01972843148887644",
         "0.06842575549694561",
         "0.044201111730029906",
         "0.04998311466327356"
        ],
        [
         "2018-01-02 16:00:00",
         "0.01972843148887644",
         "0.06842575549694561",
         "0.044201111730029906",
         "0.04998311466327356"
        ],
        [
         "2018-01-02 17:00:00",
         "0.01972843148887644",
         "0.06842575549694561",
         "0.044201111730029906",
         "0.04998311466327356"
        ],
        [
         "2018-01-02 18:00:00",
         "0.01972843148887644",
         "0.06842575549694561",
         "0.044201111730029906",
         "0.04998311466327356"
        ],
        [
         "2018-01-02 19:00:00",
         "0.01972843148887644",
         "0.06842575549694561",
         "0.044201111730029906",
         "0.04998311466327356"
        ],
        [
         "2018-01-02 20:00:00",
         "0.01972843148887644",
         "0.06842575549694561",
         "0.044201111730029906",
         "0.04998311466327356"
        ],
        [
         "2018-01-02 21:00:00",
         "0.01972843148887644",
         "0.06842575549694561",
         "0.044201111730029906",
         "0.04998311466327356"
        ],
        [
         "2018-01-02 22:00:00",
         "0.02079385258760046",
         "0.0734024835048763",
         "0.045175594621274316",
         "0.05138974246290392"
        ],
        [
         "2018-01-02 23:00:00",
         "0.019028370094124336",
         "0.0811612993547412",
         "0.047132599402189244",
         "0.05591247039247432"
        ],
        [
         "2018-01-03 00:00:00",
         "0.015950658467668504",
         "0.08118119031835946",
         "0.043045521021695725",
         "0.05695993085605613"
        ],
        [
         "2018-01-03 01:00:00",
         "0.013996926950745342",
         "0.06691643405578523",
         "0.03228226548083349",
         "0.04627988511550896"
        ]
       ],
       "shape": {
        "columns": 4,
        "rows": 52584
       }
      },
      "text/html": [
       "<div>\n",
       "<style scoped>\n",
       "    .dataframe tbody tr th:only-of-type {\n",
       "        vertical-align: middle;\n",
       "    }\n",
       "\n",
       "    .dataframe tbody tr th {\n",
       "        vertical-align: top;\n",
       "    }\n",
       "\n",
       "    .dataframe thead th {\n",
       "        text-align: right;\n",
       "    }\n",
       "</style>\n",
       "<table border=\"1\" class=\"dataframe\">\n",
       "  <thead>\n",
       "    <tr style=\"text-align: right;\">\n",
       "      <th></th>\n",
       "      <th>EirGrid</th>\n",
       "      <th>ATL</th>\n",
       "      <th>C3S NAT</th>\n",
       "      <th>C3S GRD</th>\n",
       "    </tr>\n",
       "    <tr>\n",
       "      <th>time</th>\n",
       "      <th></th>\n",
       "      <th></th>\n",
       "      <th></th>\n",
       "      <th></th>\n",
       "    </tr>\n",
       "  </thead>\n",
       "  <tbody>\n",
       "    <tr>\n",
       "      <th>2018-01-01 00:00:00</th>\n",
       "      <td>NaN</td>\n",
       "      <td>NaN</td>\n",
       "      <td>NaN</td>\n",
       "      <td>NaN</td>\n",
       "    </tr>\n",
       "    <tr>\n",
       "      <th>2018-01-01 01:00:00</th>\n",
       "      <td>NaN</td>\n",
       "      <td>NaN</td>\n",
       "      <td>NaN</td>\n",
       "      <td>NaN</td>\n",
       "    </tr>\n",
       "    <tr>\n",
       "      <th>2018-01-01 02:00:00</th>\n",
       "      <td>NaN</td>\n",
       "      <td>NaN</td>\n",
       "      <td>NaN</td>\n",
       "      <td>NaN</td>\n",
       "    </tr>\n",
       "    <tr>\n",
       "      <th>2018-01-01 03:00:00</th>\n",
       "      <td>NaN</td>\n",
       "      <td>NaN</td>\n",
       "      <td>NaN</td>\n",
       "      <td>NaN</td>\n",
       "    </tr>\n",
       "    <tr>\n",
       "      <th>2018-01-01 04:00:00</th>\n",
       "      <td>NaN</td>\n",
       "      <td>NaN</td>\n",
       "      <td>NaN</td>\n",
       "      <td>NaN</td>\n",
       "    </tr>\n",
       "    <tr>\n",
       "      <th>...</th>\n",
       "      <td>...</td>\n",
       "      <td>...</td>\n",
       "      <td>...</td>\n",
       "      <td>...</td>\n",
       "    </tr>\n",
       "    <tr>\n",
       "      <th>2023-12-31 19:00:00</th>\n",
       "      <td>NaN</td>\n",
       "      <td>NaN</td>\n",
       "      <td>NaN</td>\n",
       "      <td>NaN</td>\n",
       "    </tr>\n",
       "    <tr>\n",
       "      <th>2023-12-31 20:00:00</th>\n",
       "      <td>NaN</td>\n",
       "      <td>NaN</td>\n",
       "      <td>NaN</td>\n",
       "      <td>NaN</td>\n",
       "    </tr>\n",
       "    <tr>\n",
       "      <th>2023-12-31 21:00:00</th>\n",
       "      <td>NaN</td>\n",
       "      <td>NaN</td>\n",
       "      <td>NaN</td>\n",
       "      <td>NaN</td>\n",
       "    </tr>\n",
       "    <tr>\n",
       "      <th>2023-12-31 22:00:00</th>\n",
       "      <td>NaN</td>\n",
       "      <td>NaN</td>\n",
       "      <td>NaN</td>\n",
       "      <td>NaN</td>\n",
       "    </tr>\n",
       "    <tr>\n",
       "      <th>2023-12-31 23:00:00</th>\n",
       "      <td>NaN</td>\n",
       "      <td>NaN</td>\n",
       "      <td>NaN</td>\n",
       "      <td>NaN</td>\n",
       "    </tr>\n",
       "  </tbody>\n",
       "</table>\n",
       "<p>52584 rows × 4 columns</p>\n",
       "</div>"
      ],
      "text/plain": [
       "                     EirGrid  ATL  C3S NAT  C3S GRD\n",
       "time                                               \n",
       "2018-01-01 00:00:00      NaN  NaN      NaN      NaN\n",
       "2018-01-01 01:00:00      NaN  NaN      NaN      NaN\n",
       "2018-01-01 02:00:00      NaN  NaN      NaN      NaN\n",
       "2018-01-01 03:00:00      NaN  NaN      NaN      NaN\n",
       "2018-01-01 04:00:00      NaN  NaN      NaN      NaN\n",
       "...                      ...  ...      ...      ...\n",
       "2023-12-31 19:00:00      NaN  NaN      NaN      NaN\n",
       "2023-12-31 20:00:00      NaN  NaN      NaN      NaN\n",
       "2023-12-31 21:00:00      NaN  NaN      NaN      NaN\n",
       "2023-12-31 22:00:00      NaN  NaN      NaN      NaN\n",
       "2023-12-31 23:00:00      NaN  NaN      NaN      NaN\n",
       "\n",
       "[52584 rows x 4 columns]"
      ]
     },
     "execution_count": 9,
     "metadata": {},
     "output_type": "execute_result"
    }
   ],
   "source": [
    "# Read CSV file containing Capacity Factor from EirGrid wind\n",
    "cf_pv = pd.read_csv('../Data/verification_cf_pv_1823.csv',\n",
    "                         index_col = 0,\n",
    "                         parse_dates = True)\n",
    "\n",
    "cf_pv.columns = 'EirGrid', 'ATL', 'C3S NAT', 'C3S GRD'\n",
    "\n",
    "cf_pv_avg = cf_pv.rolling('D', min_periods=24, center=True).mean()\n",
    "cf_pv_avg"
   ]
  },
  {
   "cell_type": "markdown",
   "metadata": {},
   "source": [
    "Detect droughts for PV"
   ]
  },
  {
   "cell_type": "code",
   "execution_count": 10,
   "metadata": {},
   "outputs": [],
   "source": [
    "droughts_dict = {}\n",
    "\n",
    "for column_pv in cf_pv_avg:\n",
    "    raw_droughts_pv = identify_drought(cf_pv_avg[column_pv], 0.1)\n",
    "    droughts_pv = raw_droughts_pv[raw_droughts_pv > 24]\n",
    "    droughts_df_pv = pd.DataFrame(droughts_pv)\n",
    "    droughts_df_pv = droughts_df_pv.set_axis(['Duration'], axis=1)\n",
    "    droughts_dict[column_pv] = droughts_df_pv"
   ]
  },
  {
   "cell_type": "markdown",
   "metadata": {},
   "source": [
    "## Plots"
   ]
  },
  {
   "cell_type": "code",
   "execution_count": 11,
   "metadata": {},
   "outputs": [],
   "source": [
    "def my_title(ax, title):\n",
    "    ax.set_title(title, x=0.5, y=0.945, transform=ax.transAxes, fontsize=16, \n",
    "                 bbox=dict(facecolor='white', alpha=1))"
   ]
  },
  {
   "cell_type": "code",
   "execution_count": 18,
   "metadata": {},
   "outputs": [],
   "source": [
    "bar_width = 0.2\n",
    "xlabel = ['1-2','2-3','3-4','4-5','5-6','6-7', '7-8','8+', '']\n",
    "\n",
    "# Define duration ranges in hours\n",
    "duration_ranges_hours = [24, 48, 72, 96, 120, 144, 168, 192 ,np.inf]\n",
    "\n",
    "# Convert duration ranges to days\n",
    "duration_ranges_days = [dur / 24 for dur in duration_ranges_hours]\n",
    "\n",
    "# Group datasets based on categories\n",
    "categories = {\n",
    "    'pv': ['EirGrid', 'ATL', 'C3S GRD', 'C3S NAT']\n",
    "}\n",
    "\n",
    "label_name = ['EirGrid', 'ATL', 'C3S GRD', 'C3S NAT']\n",
    "color_models = ['black', '#B03024', '#348ABD', '#988ED5']"
   ]
  },
  {
   "cell_type": "code",
   "execution_count": 19,
   "metadata": {},
   "outputs": [
    {
     "data": {
      "image/png": "[encoded data removed]",
      "text/plain": [
       "<Figure size 629.921x393.701 with 1 Axes>"
      ]
     },
     "metadata": {},
     "output_type": "display_data"
    }
   ],
   "source": [
    "eirgrid_heights = None\n",
    "positions = np.arange(len(duration_ranges_days) - 1)\n",
    "\n",
    "cm = 1 / 2.54\n",
    "fig, ax = plt.subplots(1, 1, \n",
    "                       figsize=(16*cm, 10*cm),\n",
    "                       sharey=True)\n",
    "\n",
    "# Loop over categories for PV\n",
    "for i, name in enumerate(categories['pv']):\n",
    "    df = droughts_dict[name]\n",
    "    df = df.loc['2023', :]\n",
    "\n",
    "    # Calculate number of events for each duration range\n",
    "    df['DurationRange'] = pd.cut(df['Duration'], bins=duration_ranges_hours)\n",
    "    df['Year'] = df.index.year\n",
    "    annual_counts = df.groupby(['Year', 'DurationRange'], observed=True).size().unstack(fill_value=0)\n",
    "\n",
    "    all_duration_ranges = pd.cut([], bins=duration_ranges_hours).categories\n",
    "    annual_counts = annual_counts.reindex(columns=all_duration_ranges, fill_value=0)\n",
    "\n",
    "    if i == 0:\n",
    "        eirgrid_heights = annual_counts.values[0]\n",
    "    else:\n",
    "        ax.bar(positions + (i - 1) * bar_width - 0.2,\n",
    "               annual_counts.values[0],\n",
    "               width=bar_width,\n",
    "               color=color_models[i],\n",
    "               label=label_name[i],\n",
    "               zorder=2)\n",
    "\n",
    "if eirgrid_heights is not None:\n",
    "    ax.bar(positions,\n",
    "           eirgrid_heights,  \n",
    "           width=bar_width * 3,        \n",
    "           facecolor='none',\n",
    "           edgecolor='black',\n",
    "           linewidth=2,\n",
    "           label='Observation',\n",
    "           zorder=3)\n",
    "\n",
    "ax.legend(loc='upper right', fontsize=11)\n",
    "ax.margins(0.02)\n",
    "ax.grid(True, alpha=0.2, zorder=0)\n",
    "\n",
    "# Set x-axis ticks and labels\n",
    "ax.set_xticks(np.arange(len(duration_ranges_days)))\n",
    "ax.set_xticklabels(xlabel)\n",
    "ax.yaxis.set_major_locator(ticker.IndexLocator(base=2, offset=0))\n",
    "\n",
    "ax.set_ylabel('Annual number of events', fontsize=11)\n",
    "ax.set_xlabel('Duration Range (Days)', fontsize=11)\n",
    "fig.tight_layout()\n",
    "fig.savefig('verification_pv_number_events.pdf', bbox_inches='tight')"
   ]
  }
 ],
 "metadata": {
  "kernelspec": {
   "display_name": "base",
   "language": "python",
   "name": "python3"
  },
  "language_info": {
   "codemirror_mode": {
    "name": "ipython",
    "version": 3
   },
   "file_extension": ".py",
   "mimetype": "text/x-python",
   "name": "python",
   "nbconvert_exporter": "python",
   "pygments_lexer": "ipython3",
   "version": "3.11.0"
  }
 },
 "nbformat": 4,
 "nbformat_minor": 4
}
