{
 "cells": [
  {
   "cell_type": "markdown",
   "metadata": {},
   "source": [
    "Load Librairies"
   ]
  },
  {
   "cell_type": "code",
   "execution_count": 2,
   "metadata": {},
   "outputs": [],
   "source": [
    "import pandas as pd\n",
    "import numpy as np\n",
    "import matplotlib.pyplot as plt\n",
    "import matplotlib.patches as mpatches\n",
    "import scipy"
   ]
  },
  {
   "cell_type": "markdown",
   "metadata": {},
   "source": [
    "Use Latex Font"
   ]
  },
  {
   "cell_type": "code",
   "execution_count": 3,
   "metadata": {},
   "outputs": [],
   "source": [
    "plt.rcParams.update({\n",
    "    \"text.usetex\": True,                # Use LaTeX for text\n",
    "    \"font.family\": \"serif\",             # Use 'serif' font\n",
    "    \"font.serif\": [\"Computer Modern\"],  # LaTeX default font\n",
    "    \"axes.labelsize\": 14,               # Font size for labels\n",
    "    \"font.size\": 11,                    # General font size\n",
    "    \"legend.fontsize\": 11,              # Font size for legend\n",
    "    \"xtick.labelsize\": 10,              # Font size for x-axis\n",
    "    \"ytick.labelsize\": 10               # Font size for y-axis\n",
    "})"
   ]
  },
  {
   "cell_type": "markdown",
   "metadata": {},
   "source": [
    "Use color friendly colors"
   ]
  },
  {
   "cell_type": "code",
   "execution_count": 4,
   "metadata": {},
   "outputs": [],
   "source": [
    "plt.style.use('tableau-colorblind10')"
   ]
  },
  {
   "cell_type": "markdown",
   "metadata": {},
   "source": [
    "# Data"
   ]
  },
  {
   "cell_type": "code",
   "execution_count": 5,
   "metadata": {},
   "outputs": [],
   "source": [
    "def identify_drought(time_series: pd.Series,threshold:float):\n",
    "    events_thresh = time_series<threshold\n",
    "    raw_events = events_thresh.groupby(events_thresh.ne(events_thresh.shift()).cumsum()).cumsum()\n",
    "    identified_events = raw_events[(raw_events.shift(1) < raw_events) & (raw_events.shift(-1) < raw_events)]\n",
    "    identified_events.index = pd.Index([date - pd.Timedelta(identified_events.loc[date]-1, unit='h') for date in identified_events.index])\n",
    "    return identified_events"
   ]
  },
  {
   "cell_type": "code",
   "execution_count": 6,
   "metadata": {},
   "outputs": [],
   "source": [
    "def calculate_return_period(droughts:pd.DataFrame):\n",
    "    droughts_sorted = droughts.sort_values('Duration')\n",
    "    droughts_sorted['rank'] = scipy.stats.rankdata(droughts_sorted['Duration'])\n",
    "    droughts_sorted['exceedance_probability'] = (len(droughts_sorted)-droughts_sorted['rank']+1)/(len(droughts_sorted)+1)\n",
    "    droughts_sorted['return_period'] = 1./droughts_sorted['exceedance_probability']\n",
    "    droughts_sorted['return_years'] = droughts_sorted['return_period']*44/len(droughts_sorted)\n",
    "    return droughts_sorted"
   ]
  },
  {
   "cell_type": "code",
   "execution_count": null,
   "metadata": {},
   "outputs": [],
   "source": [
    "df_wind = pd.read_csv('../Data/cf_wind_7923.csv',\n",
    "                         index_col=0,\n",
    "                         parse_dates=True\n",
    ")\n",
    "\n",
    "df_pv = pd.read_csv('../Data/cf_pv_7923.csv',\n",
    "                         index_col=0,\n",
    "                         parse_dates=True\n",
    ")\n",
    "\n",
    "df_wind_pv = pd.concat([df_wind, df_pv])\n",
    "df_avg = df_wind.rolling('D', min_periods=24, center=True).mean()"
   ]
  },
  {
   "cell_type": "code",
   "execution_count": null,
   "metadata": {},
   "outputs": [],
   "source": [
    "droughts_dict = {}\n",
    "\n",
    "for column in df_avg:\n",
    "    raw_droughts = identify_drought(df_avg[column], 0.05)\n",
    "    droughts = raw_droughts[raw_droughts > 24]\n",
    "    droughts_df = pd.DataFrame(droughts)\n",
    "    droughts_df = droughts_df.set_axis(['Duration'], axis=1)\n",
    "    droughts_dict[column] = droughts_df"
   ]
  },
  {
   "cell_type": "code",
   "execution_count": null,
   "metadata": {},
   "outputs": [],
   "source": [
    "return_dict = {}\n",
    "for key, value in droughts_dict.items():\n",
    "    return_dict[key] = calculate_return_period(value)"
   ]
  },
  {
   "cell_type": "markdown",
   "metadata": {},
   "source": [
    "# Plot"
   ]
  },
  {
   "cell_type": "code",
   "execution_count": null,
   "metadata": {},
   "outputs": [],
   "source": [
    "def my_title(ax, title):\n",
    "    ax.set_title(title, \n",
    "                 x=0.5, y=0.945,\n",
    "                 transform=ax.transAxes,\n",
    "                 fontsize=16, \n",
    "                 bbox=dict(facecolor='white', alpha=1)\n",
    "    )"
   ]
  },
  {
   "cell_type": "code",
   "execution_count": null,
   "metadata": {},
   "outputs": [],
   "source": [
    "def plot_lines(axs):\n",
    "    axs[2].plot((0.03, 45), (5,5), '--k', alpha=0.6)\n",
    "    axs[3].plot((0.03, 45), (5,5), '--k', alpha=0.6)\n",
    "\n",
    "    axs[2].plot((0.57, 0.57), (0,5), '--', color=color_models[0])\n",
    "    axs[3].plot((4, 4), (0,5), '--', color=color_models[0])\n",
    "\n",
    "    axs[2].plot((1.4, 1.4), (0,5), '--', color=color_models[1])\n",
    "    axs[3].plot((5.5, 5.5), (0,5), '--', color=color_models[1])\n",
    "\n",
    "    axs[2].plot((1.15, 1.15), (0,5), '--', color=color_models[2])\n",
    "    axs[3].plot((4.9, 4.9), (0,5), '--', color=color_models[2])"
   ]
  },
  {
   "cell_type": "code",
   "execution_count": null,
   "metadata": {},
   "outputs": [],
   "source": [
    "label_name = ['Atlite', 'C3S-E G', 'C3S-E N']\n",
    "title_name = ['a) Wind', 'b) PV', 'c) Current', 'd) Projected']\n",
    "color_models = ['#E24A33', '#348ABD', '#988ED5']    # ggplot\n",
    "color_models = ['#006BA4', '#FF800E', '#ABABAB']    # colorblind\n"
   ]
  },
  {
   "cell_type": "code",
   "execution_count": null,
   "metadata": {},
   "outputs": [],
   "source": [
    "duration_ranges_hours = [24, 48, 72, 96, 120, 144, 168, 192 ,np.inf]\n",
    "duration_ranges_days = [dur / 24 for dur in duration_ranges_hours]\n",
    "\n",
    "xlabel = ['1-2','2-3','3-4','4-5','5-6','6-7', '7-8','8+', '']"
   ]
  },
  {
   "cell_type": "code",
   "execution_count": null,
   "metadata": {},
   "outputs": [],
   "source": [
    "categories = {\n",
    "    'onshorewind': ['onshorewind_atlite', 'onshorewind_c3se_gridded', 'onshorewind_c3se_national'],\n",
    "    'pv': ['pv_atlite', 'pv_c3se_gridded', 'pv_c3se_national'],\n",
    "    'combine_2023': ['combine_atlite_2023', 'combine_c3se_gridded_2023', 'combine_c3se_national_2023'],\n",
    "    'combine_2030': ['combine_atlite_2030', 'combine_c3se_gridded_2030', 'combine_c3se_national_2030']\n",
    "}"
   ]
  },
  {
   "cell_type": "code",
   "execution_count": null,
   "metadata": {},
   "outputs": [],
   "source": [
    "fig, axs = plt.subplots(2, 2, \n",
    "                        sharex = True,\n",
    "                        # sharey = True,\n",
    "                        figsize = (9, 5)\n",
    "                        )\n",
    "axs = axs.flatten()\n",
    "\n",
    "for idx, (category, datasets_in_category) in enumerate(categories.items()):\n",
    "    ax = axs[idx]\n",
    "\n",
    "    for i, name in enumerate(datasets_in_category):\n",
    "\n",
    "        ax.scatter(return_dict[name]['return_years'], return_dict[name]['Duration']/24, \n",
    "                   s = 10,\n",
    "                   marker = 'x',\n",
    "                   color = color_models[i],\n",
    "                   alpha = 0.8,\n",
    "                   zorder = 3\n",
    "        )\n",
    "\n",
    "    if idx != 1:\n",
    "        ax.set_ylim(0,16)\n",
    "    ax.set_xscale('log')\n",
    "    ax.set_xticks([7/365, 30/365, 91/365, 1, 2, 5, 10, 40])\n",
    "    ax.set_xticklabels(['1w', '1m', '3m', '1y', '2y', '5y', '10y', '40y'])\n",
    "    ax.grid(alpha=0.5, zorder=0)\n",
    "    my_title(ax, title_name[idx])\n",
    "\n",
    "\n",
    "plot_lines(axs)\n",
    "fig.legend(labels = label_name,\n",
    "           loc = 'upper center',\n",
    "           ncol = 3,\n",
    "           markerscale = 2\n",
    "           )\n",
    "\n",
    "fig.supxlabel('Return period')\n",
    "fig.supylabel('RES drought duration (days)')\n",
    "\n",
    "fig.tight_layout()\n",
    "fig.subplots_adjust(top=0.9)\n",
    "\n",
    "# fig.savefig('../Figures/drouhgts_return_periods.pdf', dpi=300)"
   ]
  }
 ],
 "metadata": {
  "kernelspec": {
   "display_name": "base",
   "language": "python",
   "name": "python3"
  },
  "language_info": {
   "codemirror_mode": {
    "name": "ipython",
    "version": 3
   },
   "file_extension": ".py",
   "mimetype": "text/x-python",
   "name": "python",
   "nbconvert_exporter": "python",
   "pygments_lexer": "ipython3",
   "version": "3.11.5"
  }
 },
 "nbformat": 4,
 "nbformat_minor": 2
}
