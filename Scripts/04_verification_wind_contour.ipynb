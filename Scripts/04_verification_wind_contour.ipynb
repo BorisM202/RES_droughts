{
 "cells": [
  {
   "cell_type": "markdown",
   "metadata": {},
   "source": [
    "# Figure 4"
   ]
  },
  {
   "cell_type": "markdown",
   "metadata": {},
   "source": [
    "Load Libraries"
   ]
  },
  {
   "cell_type": "code",
   "execution_count": 126,
   "metadata": {},
   "outputs": [],
   "source": [
    "import numpy as np                  # Data  \n",
    "import pandas as pd                 # Data \n",
    "import matplotlib.pyplot as plt     # Plot\n",
    "import matplotlib as mpl            # Plot  "
   ]
  },
  {
   "cell_type": "markdown",
   "metadata": {},
   "source": [
    "Use Latex Font"
   ]
  },
  {
   "cell_type": "code",
   "execution_count": 127,
   "metadata": {},
   "outputs": [],
   "source": [
    "plt.rcParams.update({'text.usetex': True,\n",
    "                     'font.family': 'serif',\n",
    "                     'font.serif': ['Computer Modern'],\n",
    "                     'font.size': 11,\n",
    "                     'axes.labelsize': 11,\n",
    "                     'legend.fontsize': 11,\n",
    "                     'xtick.labelsize': 9,\n",
    "                     'ytick.labelsize': 9})  "
   ]
  },
  {
   "cell_type": "markdown",
   "metadata": {},
   "source": [
    "## Data & Methods"
   ]
  },
  {
   "cell_type": "markdown",
   "metadata": {},
   "source": [
    "Read capacity factor verification data from 2014 to 2023"
   ]
  },
  {
   "cell_type": "code",
   "execution_count": 128,
   "metadata": {},
   "outputs": [],
   "source": [
    "df_cf = pd.read_csv('../Data/cf_verification_2014-2023.csv',\n",
    "                    index_col = 0,\n",
    "                    parse_dates = True,\n",
    "                    usecols = ['datetime', 'Wind OBS', 'Wind ATL', 'Wind C3S GRD', 'Wind C3S NAT']).dropna()"
   ]
  },
  {
   "cell_type": "markdown",
   "metadata": {},
   "source": [
    "Create function to calculate skill scores comparing the three models to the observations"
   ]
  },
  {
   "cell_type": "code",
   "execution_count": 129,
   "metadata": {},
   "outputs": [],
   "source": [
    "def calculate_metrics(reference, model):\n",
    "    cc = np.corrcoef(reference, model)[0, 1]\n",
    "    rmse = np.sqrt(np.mean((reference - model) ** 2))\n",
    "    mbe = np.mean(model - reference)\n",
    "    return np.round(cc, 3), np.round(rmse,3),  np.round(mbe,3)"
   ]
  },
  {
   "cell_type": "markdown",
   "metadata": {},
   "source": [
    "Apply the function and store the results in a pandas DataFrame"
   ]
  },
  {
   "cell_type": "code",
   "execution_count": 130,
   "metadata": {},
   "outputs": [],
   "source": [
    "metrics = {}\n",
    "reference = df_cf['Wind OBS']\n",
    "models = ['Wind ATL', 'Wind C3S GRD', 'Wind C3S NAT']\n",
    "\n",
    "for model in models:\n",
    "    metrics[model] = calculate_metrics(reference, df_cf[model])\n",
    "\n",
    "df_metrics = pd.DataFrame(metrics, index=['CC', 'RMSE', 'MBE'])"
   ]
  },
  {
   "cell_type": "markdown",
   "metadata": {},
   "source": [
    "# Plot"
   ]
  },
  {
   "cell_type": "markdown",
   "metadata": {},
   "source": [
    "Create custom colormap "
   ]
  },
  {
   "cell_type": "code",
   "execution_count": 132,
   "metadata": {},
   "outputs": [],
   "source": [
    "def truncate_colormap(cmap, minval = 0.0, maxval = 1.0, n = 100):\n",
    "    new_cmap = mpl.colors.LinearSegmentedColormap.from_list(\n",
    "        'trunc({n},{a:.2f},{b:.2f})'.format(n = cmap.name, a = minval, b = maxval),\n",
    "        cmap(np.linspace(minval, maxval, n)))\n",
    "    return new_cmap\n",
    "\n",
    "cmap = truncate_colormap(mpl.colormaps['viridis'], maxval = 0.2, minval = 0.95)\n",
    "cmap = cmap.resampled(6)\n",
    "\n",
    "bounds = [10, 50, 100, 500, 1000, 5000]\n",
    "norm = mpl.colors.BoundaryNorm(bounds, cmap.N)"
   ]
  },
  {
   "cell_type": "code",
   "execution_count": 133,
   "metadata": {},
   "outputs": [],
   "source": [
    "bins = np.arange(-0.025, 1.05, 0.05)\n",
    "centered_bins = 0.5 * (bins[1:] + bins[:-1])\n",
    "\n",
    "models = {'ATL': df_cf['Wind ATL'].values,\n",
    "          'C3S GRD': df_cf['Wind C3S GRD'].values,\n",
    "          'C3S NAT': df_cf['Wind C3S NAT'].values}\n",
    "\n",
    "cm = 1 / 2.54"
   ]
  },
  {
   "cell_type": "code",
   "execution_count": null,
   "metadata": {},
   "outputs": [
    {
     "data": {
      "image/png": "[encoded data removed]",
      "text/plain": [
       "<Figure size 629.921x196.85 with 4 Axes>"
      ]
     },
     "metadata": {},
     "output_type": "display_data"
    }
   ],
   "source": [
    "fig, ax = plt.subplots(1, 3, \n",
    "                       figsize = (16*cm, 5*cm),\n",
    "                       constrained_layout = True)\n",
    "\n",
    "for i, (label, model_data) in enumerate(models.items()):\n",
    "    # Create histogram\n",
    "    hist, _, _ = np.histogram2d(x = model_data, y = df_cf['Wind OBS'].values,\n",
    "                                bins = bins,\n",
    "                                density = False)\n",
    "    \n",
    "    # Contour plot\n",
    "    im = ax[i].contourf(centered_bins, centered_bins,\n",
    "                        hist.T,\n",
    "                        levels = bounds,\n",
    "                        cmap = cmap,\n",
    "                        norm = norm,\n",
    "                        extend = 'max',\n",
    "                        zorder = 3)\n",
    "    \n",
    "    # Add diagonal line\n",
    "    ax[i].plot(bins, bins,\n",
    "               c = 'k',\n",
    "               lw = 2,\n",
    "               ls = '--',\n",
    "               zorder=5)\n",
    "    \n",
    "    # Set axis properties\n",
    "    ax[i].set_aspect(1.)\n",
    "    ax[i].set_xlim(0, 1)\n",
    "    ax[i].set_xticks([0, 0.25, 0.5, 0.75, 1])\n",
    "    ax[i].set_xticklabels(['0', '0.25', '0.50', '0.75', '1'])\n",
    "    ax[i].set_xlabel(f'{label} CF')\n",
    "    ax[i].set_ylim(0, 1)\n",
    "    ax[i].set_yticks([0, 0.25, 0.5, 0.75, 1])\n",
    "    ax[i].set_yticklabels(['0', '0.25', '0.50', '0.75', '1'])\n",
    "    if i != 0:\n",
    "        ax[i].set_yticklabels([])\n",
    "    else:\n",
    "        ax[i].set_ylabel('Observed CF')\n",
    "    ax[i].grid(True, alpha = 0.3, zorder = 0)\n",
    "    ax[i].text(0.03, 0.98,\n",
    "               f'{chr(97 + i)})',\n",
    "               fontsize = 12,\n",
    "               ha = 'left', va = 'top',\n",
    "               transform = ax[i].transAxes)\n",
    "\n",
    "# Colorbar\n",
    "cbar = fig.colorbar(im, ax = ax[-1])\n",
    "cbar.set_label('Number of Hours')\n",
    "\n",
    "# fig.savefig('4_verification_wind_contour.png', bbox_inches = 'tight', dpi = 300)"
   ]
  }
 ],
 "metadata": {
  "kernelspec": {
   "display_name": "base",
   "language": "python",
   "name": "python3"
  },
  "language_info": {
   "codemirror_mode": {
    "name": "ipython",
    "version": 3
   },
   "file_extension": ".py",
   "mimetype": "text/x-python",
   "name": "python",
   "nbconvert_exporter": "python",
   "pygments_lexer": "ipython3",
   "version": "3.11.5"
  }
 },
 "nbformat": 4,
 "nbformat_minor": 2
}
